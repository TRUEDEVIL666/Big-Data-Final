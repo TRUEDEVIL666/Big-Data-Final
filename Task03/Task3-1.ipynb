{
  "nbformat": 4,
  "nbformat_minor": 0,
  "metadata": {
    "colab": {
      "provenance": []
    },
    "kernelspec": {
      "name": "python3",
      "display_name": "Python 3"
    },
    "language_info": {
      "name": "python"
    }
  },
  "cells": [
    {
      "cell_type": "markdown",
      "source": [
        "# **Step 1: Load and Preprocess**"
      ],
      "metadata": {
        "id": "bkMzK8Endwvd"
      }
    },
    {
      "cell_type": "code",
      "source": [
        "from pyspark.sql import SparkSession\n",
        "from pyspark.sql.functions import col\n",
        "from pyspark.sql.types import DoubleType\n",
        "\n",
        "spark = SparkSession.builder.appName(\"CUR_Task3\").getOrCreate()\n",
        "\n",
        "# Load data\n",
        "path = \"/content/drive/MyDrive/MMDS/Final/gold_prices.csv\"\n",
        "df = spark.read.option(\"header\", True).option(\"inferSchema\", True).csv(path)"
      ],
      "metadata": {
        "id": "TEdSYepmd0DA"
      },
      "execution_count": null,
      "outputs": []
    },
    {
      "cell_type": "code",
      "source": [
        "# Format types\n",
        "df = df.withColumn(\"Date\", col(\"Date\").cast(\"date\"))\n",
        "df = df.withColumn(\"Buy Price\", col(\"Buy Price\").cast(DoubleType()))\n",
        "df = df.withColumn(\"Sell Price\", col(\"Sell Price\").cast(DoubleType()))\n",
        "df = df.orderBy(\"Date\")"
      ],
      "metadata": {
        "id": "lX_AfK2Ed2fw"
      },
      "execution_count": null,
      "outputs": []
    },
    {
      "cell_type": "markdown",
      "source": [
        "# **Step 2: Generate Features and Labels**"
      ],
      "metadata": {
        "id": "44vWrwBjd3na"
      }
    },
    {
      "cell_type": "code",
      "source": [
        "from pyspark.sql.window import Window\n",
        "from pyspark.sql.functions import lag\n",
        "from pyspark.ml.feature import VectorAssembler\n",
        "\n",
        "# Create lag features\n",
        "windowSpec = Window.orderBy(\"Date\")\n",
        "for i in range(1, 11):\n",
        "    df = df.withColumn(f\"lag_{i}\", lag(\"Buy Price\", i).over(windowSpec))\n",
        "\n",
        "df = df.na.drop()\n",
        "\n",
        "# Assemble lag features\n",
        "feature_cols = [f\"lag_{i}\" for i in range(10, 0, -1)]\n",
        "assembler = VectorAssembler(inputCols=feature_cols, outputCol=\"features\")\n",
        "df = assembler.transform(df)\n",
        "\n",
        "# Add label and keep date\n",
        "data = df.select(\"Date\", \"features\", col(\"Buy Price\").alias(\"label\"))"
      ],
      "metadata": {
        "id": "yCUGwq6Zd5r5"
      },
      "execution_count": null,
      "outputs": []
    },
    {
      "cell_type": "code",
      "source": [
        "# Count and compute index for split\n",
        "total_count = data.count()\n",
        "train_count = int(total_count * 0.7)\n",
        "\n",
        "# Order and assign row numbers\n",
        "from pyspark.sql.functions import monotonically_increasing_id\n",
        "data = data.orderBy(\"Date\").withColumn(\"row_id\", monotonically_increasing_id())\n",
        "\n",
        "# Time-based split\n",
        "train_df = data.filter(col(\"row_id\") < train_count).select(\"features\", \"label\")\n",
        "test_df = data.filter(col(\"row_id\") >= train_count).select(\"features\", \"label\")"
      ],
      "metadata": {
        "id": "D01FX5AxZmK2"
      },
      "execution_count": null,
      "outputs": []
    },
    {
      "cell_type": "markdown",
      "source": [
        "# **Step 3: CURDecomposition Class**"
      ],
      "metadata": {
        "id": "ngMNpsCHd6zU"
      }
    },
    {
      "cell_type": "code",
      "source": [
        "import numpy as np\n",
        "from pyspark.ml.linalg import Vectors, DenseMatrix\n",
        "from pyspark.mllib.linalg.distributed import RowMatrix\n",
        "\n",
        "class CURDecomposition:\n",
        "    def __init__(self, k):\n",
        "        self.k = k  # number of columns to retain\n",
        "\n",
        "    def _to_row_matrix(self, df):\n",
        "        return RowMatrix(df.rdd.map(lambda row: Vectors.dense(row[\"features\"])))\n",
        "\n",
        "    def fit_transform(self, df):\n",
        "        # Step 1: Convert features to RowMatrix\n",
        "        row_matrix = self._to_row_matrix(df)\n",
        "\n",
        "        # Step 2: Compute column norms to form sampling probabilities\n",
        "        num_cols = len(df.first()[\"features\"])\n",
        "        col_norms = [0.0] * num_cols\n",
        "        for row in df.select(\"features\").collect():\n",
        "            vec = row[\"features\"]\n",
        "            for i in range(num_cols):\n",
        "                col_norms[i] += vec[i] ** 2\n",
        "\n",
        "        total_norm = sum(col_norms)\n",
        "        probs = [n / total_norm for n in col_norms]\n",
        "\n",
        "        # Step 3: Sample columns based on probabilities\n",
        "        sampled_indices = np.random.choice(range(num_cols), size=self.k, replace=False, p=probs)\n",
        "        sampled_indices.sort()\n",
        "\n",
        "        # Step 4: Extract C matrix (selected columns from features)\n",
        "        def extract_selected_cols(row):\n",
        "            full_vec = row[\"features\"]\n",
        "            return Vectors.dense([full_vec[i] for i in sampled_indices])\n",
        "\n",
        "        selected_df = df.rdd.map(lambda row: (extract_selected_cols(row), row[\"label\"])).toDF([\"features\", \"label\"])\n",
        "\n",
        "        return selected_df, sampled_indices"
      ],
      "metadata": {
        "id": "5wtoRjmwd_Qi"
      },
      "execution_count": null,
      "outputs": []
    },
    {
      "cell_type": "markdown",
      "source": [
        "# **Step 4: Apply CUR Decomposition to your train and test sets**"
      ],
      "metadata": {
        "id": "ADP3mO-Nd9RC"
      }
    },
    {
      "cell_type": "code",
      "source": [
        "# Initialize CUR class with k = 5\n",
        "cur = CURDecomposition(k=5)\n",
        "\n",
        "# Apply CUR decomposition to training set\n",
        "train_reduced_df, selected_indices = cur.fit_transform(train_df)\n",
        "\n",
        "# Apply same column indices to transform test set\n",
        "def reduce_features(row):\n",
        "    reduced_vector = [row[\"features\"][i] for i in selected_indices]\n",
        "    return (Vectors.dense(reduced_vector), row[\"label\"])\n",
        "\n",
        "test_reduced_df = test_df.rdd.map(reduce_features).toDF([\"features\", \"label\"])"
      ],
      "metadata": {
        "id": "hsGssdu4cXHA"
      },
      "execution_count": null,
      "outputs": []
    },
    {
      "cell_type": "code",
      "source": [
        "train_reduced_df.show(3)\n",
        "test_reduced_df.show(3)"
      ],
      "metadata": {
        "id": "SN2w7plFcZLg"
      },
      "execution_count": null,
      "outputs": []
    },
    {
      "cell_type": "markdown",
      "source": [
        "# **Step 5: Train and Evaluate a Linear Regression Model on Reduced Data**"
      ],
      "metadata": {
        "id": "_St9LvzteBEH"
      }
    },
    {
      "cell_type": "code",
      "source": [
        "from pyspark.ml.regression import LinearRegression\n",
        "from pyspark.ml.evaluation import RegressionEvaluator\n",
        "\n",
        "def evaluate_model(predictions):\n",
        "    evaluator_rmse = RegressionEvaluator(labelCol=\"label\", predictionCol=\"prediction\", metricName=\"rmse\")\n",
        "    evaluator_mae = RegressionEvaluator(labelCol=\"label\", predictionCol=\"prediction\", metricName=\"mae\")\n",
        "    evaluator_r2 = RegressionEvaluator(labelCol=\"label\", predictionCol=\"prediction\", metricName=\"r2\")\n",
        "\n",
        "    rmse = evaluator_rmse.evaluate(predictions)\n",
        "    mae = evaluator_mae.evaluate(predictions)\n",
        "    r2 = evaluator_r2.evaluate(predictions)\n",
        "\n",
        "    return rmse, mae, r2\n",
        "\n",
        "# 1. Train on CUR Features\n",
        "lr_cur = LinearRegression(featuresCol=\"features\", labelCol=\"label\")\n",
        "model_cur = lr_cur.fit(train_reduced_df)\n",
        "\n",
        "# Predictions\n",
        "pred_train_cur = model_cur.transform(train_reduced_df)\n",
        "pred_test_cur = model_cur.transform(test_reduced_df)\n",
        "\n",
        "# CUR-based model\n",
        "rmse_train_cur, mae_train_cur, r2_train_cur = evaluate_model(pred_train_cur)\n",
        "rmse_test_cur, mae_test_cur, r2_test_cur = evaluate_model(pred_test_cur)\n",
        "\n",
        "# 2. Train on Original Features\n",
        "lr_orig = LinearRegression(featuresCol=\"features\", labelCol=\"label\")\n",
        "model_orig = lr_orig.fit(train_df)\n",
        "\n",
        "# Predictions\n",
        "pred_train_orig = model_orig.transform(train_df)\n",
        "pred_test_orig = model_orig.transform(test_df)\n",
        "\n",
        "# Original feature model\n",
        "rmse_train_orig, mae_train_orig, r2_train_orig = evaluate_model(pred_train_orig)\n",
        "rmse_test_orig, mae_test_orig, r2_test_orig = evaluate_model(pred_test_orig)"
      ],
      "metadata": {
        "id": "_e7THr-K0Lzq"
      },
      "execution_count": null,
      "outputs": []
    },
    {
      "cell_type": "code",
      "source": [
        "print(\"=== ORIGINAL FEATURES (10 dims) ===\")\n",
        "print(f\"Train: RMSE={rmse_train_orig:.4f}, MAE={mae_train_orig:.4f}, R²={r2_train_orig:.4f}\")\n",
        "print(f\"Test : RMSE={rmse_test_orig:.4f}, MAE={mae_test_orig:.4f}, R²={r2_test_orig:.4f}\")\n",
        "\n",
        "print(\"\\n=== CUR-REDUCED FEATURES (5 dims) ===\")\n",
        "print(f\"Train: RMSE={rmse_train_cur:.4f}, MAE={mae_train_cur:.4f}, R²={r2_train_cur:.4f}\")\n",
        "print(f\"Test : RMSE={rmse_test_cur:.4f}, MAE={mae_test_cur:.4f}, R²={r2_test_cur:.4f}\")"
      ],
      "metadata": {
        "colab": {
          "base_uri": "https://localhost:8080/"
        },
        "id": "hR9dEX2F4XG2",
        "outputId": "5c2619c8-0aea-4520-fc11-aae1be2f1ddd"
      },
      "execution_count": null,
      "outputs": [
        {
          "output_type": "stream",
          "name": "stdout",
          "text": [
            "=== ORIGINAL FEATURES (10 dims) ===\n",
            "Train: RMSE=0.2114, MAE=0.1069, R²=0.9983\n",
            "Test : RMSE=0.4672, MAE=0.2222, R²=0.9977\n",
            "\n",
            "=== CUR-REDUCED FEATURES (5 dims) ===\n",
            "Train: RMSE=0.2117, MAE=0.1068, R²=0.9983\n",
            "Test : RMSE=0.4682, MAE=0.2214, R²=0.9977\n"
          ]
        }
      ]
    },
    {
      "cell_type": "markdown",
      "source": [
        "# **Step 6: Visualize and compare the metrics**"
      ],
      "metadata": {
        "id": "w0Jsf9-tiNo6"
      }
    },
    {
      "cell_type": "code",
      "source": [
        "import matplotlib.pyplot as plt\n",
        "import numpy as np\n",
        "\n",
        "# Metrics\n",
        "metrics = ['RMSE', 'MAE', 'R2']\n",
        "train_orig = [rmse_train_orig, mae_train_orig, r2_train_orig]\n",
        "test_orig  = [rmse_test_orig,  mae_test_orig,  r2_test_orig]\n",
        "train_cur  = [rmse_train_cur,  mae_train_cur,  r2_train_cur]\n",
        "test_cur   = [rmse_test_cur,   mae_test_cur,   r2_test_cur]\n",
        "\n",
        "# X axis positions\n",
        "x = np.arange(len(metrics))\n",
        "width = 0.2\n",
        "\n",
        "fig, ax = plt.subplots(figsize=(10, 6))\n",
        "\n",
        "# Bars\n",
        "bars1 = ax.bar(x - 1.5*width, train_orig, width, label='Train - Original', color='skyblue')\n",
        "bars2 = ax.bar(x - 0.5*width, test_orig, width, label='Test - Original', color='blue')\n",
        "bars3 = ax.bar(x + 0.5*width, train_cur,  width, label='Train - CUR', color='lightgreen')\n",
        "bars4 = ax.bar(x + 1.5*width, test_cur,  width, label='Test - CUR', color='green')\n",
        "\n",
        "# Axes\n",
        "ax.set_xlabel('Metrics')\n",
        "ax.set_ylabel('Score')\n",
        "ax.set_title('Model Performance Comparison: Original vs CUR')\n",
        "ax.set_xticks(x)\n",
        "ax.set_xticklabels(metrics)\n",
        "ax.legend()\n",
        "ax.grid(True, linestyle='--', alpha=0.5)\n",
        "\n",
        "# .4f value labels\n",
        "for bars in [bars1, bars2, bars3, bars4]:\n",
        "    for bar in bars:\n",
        "        height = bar.get_height()\n",
        "        ax.annotate(f'{height:.4f}', xy=(bar.get_x() + bar.get_width() / 2, height),\n",
        "                    xytext=(0, 3), textcoords=\"offset points\", ha='center', fontsize=8)\n",
        "\n",
        "plt.tight_layout()\n",
        "plt.show()"
      ],
      "metadata": {
        "colab": {
          "base_uri": "https://localhost:8080/",
          "height": 607
        },
        "id": "vQZuHcVB02kc",
        "outputId": "ebd060a4-db9f-4a56-f183-dba31eec7594"
      },
      "execution_count": null,
      "outputs": [
        {
          "output_type": "display_data",
          "data": {
            "text/plain": [
              "<Figure size 1000x600 with 1 Axes>"
            ],
            "image/png": "[encoded data removed]"
          },
          "metadata": {}
        }
      ]
    }
  ]
}