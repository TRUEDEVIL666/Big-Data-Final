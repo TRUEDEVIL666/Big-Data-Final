{
 "cells": [
  {
   "metadata": {},
   "cell_type": "markdown",
   "source": "# Importing PySpark and Reading the Dataset",
   "id": "d5975049afea6559"
  },
  {
   "metadata": {},
   "cell_type": "markdown",
   "source": "## Importing PySpark",
   "id": "cd356b8016cca0a9"
  },
  {
   "cell_type": "code",
   "id": "initial_id",
   "metadata": {
    "collapsed": true,
    "ExecuteTime": {
     "end_time": "2025-05-21T07:11:51.383085Z",
     "start_time": "2025-05-21T07:11:22.114548Z"
    }
   },
   "source": [
    "import os\n",
    "\n",
    "os.environ['HADOOP_HOME'] = 'D:\\Programming\\hadoop-3.4.1'\n",
    "\n",
    "from pyspark.sql import SparkSession\n",
    "\n",
    "spark = SparkSession.builder.appName('Task02') \\\n",
    "\t.config('spark.hadoop.hadoop.home.dir', 'D:\\Programming\\hadoop-3.4.1') \\\n",
    "\t.getOrCreate()\n",
    "\n",
    "print(spark)"
   ],
   "outputs": [
    {
     "name": "stdout",
     "output_type": "stream",
     "text": [
      "<pyspark.sql.session.SparkSession object at 0x000001B57FD4EF50>\n"
     ]
    }
   ],
   "execution_count": 1
  },
  {
   "metadata": {
    "ExecuteTime": {
     "end_time": "2025-05-21T07:11:51.405448Z",
     "start_time": "2025-05-21T07:11:51.398843Z"
    }
   },
   "cell_type": "code",
   "source": "spark.version",
   "id": "204fa9d1e06ce6e3",
   "outputs": [
    {
     "data": {
      "text/plain": [
       "'3.5.5'"
      ]
     },
     "execution_count": 2,
     "metadata": {},
     "output_type": "execute_result"
    }
   ],
   "execution_count": 2
  },
  {
   "metadata": {},
   "cell_type": "markdown",
   "source": "## Reading the Dataset",
   "id": "8330af1da7c3f83d"
  },
  {
   "metadata": {
    "ExecuteTime": {
     "end_time": "2025-05-21T07:11:56.551797Z",
     "start_time": "2025-05-21T07:11:51.432768Z"
    }
   },
   "cell_type": "code",
   "source": [
    "import_file_path = 'generated_samples.csv'\n",
    "\n",
    "df = spark.read.csv(import_file_path, header=True, inferSchema=True)\n",
    "df.show(5)"
   ],
   "id": "dd3135d487faaf31",
   "outputs": [
    {
     "name": "stdout",
     "output_type": "stream",
     "text": [
      "+----------+-----------------+------------------+---------------------+----------------------+\n",
      "|      Date|Current Buy Price|Current Sell Price|Previous Buy Price(s)|Previous Sell Price(s)|\n",
      "+----------+-----------------+------------------+---------------------+----------------------+\n",
      "|2009-08-12|            21.13|             21.19| [21.13,21.13,21.1...|  [21.19,21.19,21.1...|\n",
      "|2009-08-13|            21.13|             21.19| [21.13,21.13,21.1...|  [21.19,21.19,21.1...|\n",
      "|2009-08-15|            21.13|             21.19| [21.13,21.13,21.1...|  [21.19,21.19,21.1...|\n",
      "|2009-08-16|            21.13|             21.19| [21.13,21.13,21.1...|  [21.19,21.19,21.1...|\n",
      "|2009-08-17|            21.13|             21.19| [21.13,21.13,21.1...|  [21.19,21.19,21.1...|\n",
      "+----------+-----------------+------------------+---------------------+----------------------+\n",
      "only showing top 5 rows\n",
      "\n"
     ]
    }
   ],
   "execution_count": 3
  },
  {
   "metadata": {
    "ExecuteTime": {
     "end_time": "2025-05-21T07:12:24.753654Z",
     "start_time": "2025-05-21T07:12:23.077269Z"
    }
   },
   "cell_type": "code",
   "source": "df.describe().show()",
   "id": "5db8c6e3c35af80e",
   "outputs": [
    {
     "name": "stdout",
     "output_type": "stream",
     "text": [
      "+-------+-----------------+------------------+---------------------+----------------------+\n",
      "|summary|Current Buy Price|Current Sell Price|Previous Buy Price(s)|Previous Sell Price(s)|\n",
      "+-------+-----------------+------------------+---------------------+----------------------+\n",
      "|  count|             4000|              4000|                 4000|                  4000|\n",
      "|   mean|45.89015999999998|46.349394999999895|                 NULL|                  NULL|\n",
      "| stddev|15.03259294124045|15.501467577563083|                 NULL|                  NULL|\n",
      "|    min|            21.13|             21.19| [21.13,21.13,21.1...|  [21.19,21.19,21.1...|\n",
      "|    max|             89.0|              91.0| [89.0,87.7,87.7,8...|  [91.3,91.3,89.5,8...|\n",
      "+-------+-----------------+------------------+---------------------+----------------------+\n",
      "\n"
     ]
    }
   ],
   "execution_count": 4
  },
  {
   "metadata": {
    "ExecuteTime": {
     "end_time": "2025-05-21T07:12:29.868586Z",
     "start_time": "2025-05-21T07:12:29.855586Z"
    }
   },
   "cell_type": "code",
   "source": "df.printSchema()",
   "id": "e99edf8921fd6966",
   "outputs": [
    {
     "name": "stdout",
     "output_type": "stream",
     "text": [
      "root\n",
      " |-- Date: date (nullable = true)\n",
      " |-- Current Buy Price: double (nullable = true)\n",
      " |-- Current Sell Price: double (nullable = true)\n",
      " |-- Previous Buy Price(s): string (nullable = true)\n",
      " |-- Previous Sell Price(s): string (nullable = true)\n",
      "\n"
     ]
    }
   ],
   "execution_count": 5
  },
  {
   "metadata": {
    "ExecuteTime": {
     "end_time": "2025-05-21T07:18:40.304953Z",
     "start_time": "2025-05-21T07:18:40.237281Z"
    }
   },
   "cell_type": "code",
   "source": [
    "import pyspark.sql.functions as F\n",
    "from pyspark.sql.types import DoubleType\n",
    "\n",
    "for col in ['Buy', 'Sell']:\n",
    "\tcol = f'Previous {col} Price(s)'\n",
    "\tdf = df.withColumn(\n",
    "\t\tcol,\n",
    "\t\tF.col(col).cast(DoubleType())\n",
    "\t)"
   ],
   "id": "973c684d659eb92b",
   "outputs": [],
   "execution_count": 6
  },
  {
   "metadata": {
    "ExecuteTime": {
     "end_time": "2025-05-21T07:18:41.895314Z",
     "start_time": "2025-05-21T07:18:41.879549Z"
    }
   },
   "cell_type": "code",
   "source": "df.printSchema()",
   "id": "91e67118c1ef200e",
   "outputs": [
    {
     "name": "stdout",
     "output_type": "stream",
     "text": [
      "root\n",
      " |-- Date: date (nullable = true)\n",
      " |-- Current Buy Price: double (nullable = true)\n",
      " |-- Current Sell Price: double (nullable = true)\n",
      " |-- Previous Buy Price(s): double (nullable = true)\n",
      " |-- Previous Sell Price(s): double (nullable = true)\n",
      "\n"
     ]
    }
   ],
   "execution_count": 7
  },
  {
   "metadata": {},
   "cell_type": "code",
   "outputs": [],
   "execution_count": null,
   "source": "class CUR()",
   "id": "b2cc3defe8eeff7e"
  }
 ],
 "metadata": {
  "kernelspec": {
   "display_name": "Python 3",
   "language": "python",
   "name": "python3"
  },
  "language_info": {
   "codemirror_mode": {
    "name": "ipython",
    "version": 2
   },
   "file_extension": ".py",
   "mimetype": "text/x-python",
   "name": "python",
   "nbconvert_exporter": "python",
   "pygments_lexer": "ipython2",
   "version": "2.7.6"
  }
 },
 "nbformat": 4,
 "nbformat_minor": 5
}
