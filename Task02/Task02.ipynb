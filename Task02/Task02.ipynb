{
 "cells": [
  {
   "metadata": {},
   "cell_type": "markdown",
   "source": "# Importing PySpark and Reading the Dataset",
   "id": "84be04cbeadac7dd"
  },
  {
   "metadata": {},
   "cell_type": "markdown",
   "source": "## Importing PySpark",
   "id": "c47a29c03350e423"
  },
  {
   "cell_type": "code",
   "id": "initial_id",
   "metadata": {
    "collapsed": true,
    "ExecuteTime": {
     "end_time": "2025-05-23T04:44:17.439379Z",
     "start_time": "2025-05-23T04:43:44.895937Z"
    }
   },
   "source": [
    "import os\n",
    "\n",
    "# os.environ['HADOOP_HOME'] = 'D:\\Programming\\hadoop-3.4.1'\n",
    "\n",
    "from pyspark.sql import SparkSession, DataFrame\n",
    "\n",
    "spark = SparkSession.builder.appName('Task02').getOrCreate()\n",
    "\n",
    "print(spark)"
   ],
   "outputs": [
    {
     "name": "stdout",
     "output_type": "stream",
     "text": [
      "<pyspark.sql.session.SparkSession object at 0x0000012E16804450>\n"
     ]
    }
   ],
   "execution_count": 1
  },
  {
   "metadata": {
    "ExecuteTime": {
     "end_time": "2025-05-23T04:44:17.514624Z",
     "start_time": "2025-05-23T04:44:17.496797Z"
    }
   },
   "cell_type": "code",
   "source": "spark.version",
   "id": "f9a91c84e368c8ce",
   "outputs": [
    {
     "data": {
      "text/plain": [
       "'3.5.5'"
      ]
     },
     "execution_count": 2,
     "metadata": {},
     "output_type": "execute_result"
    }
   ],
   "execution_count": 2
  },
  {
   "metadata": {},
   "cell_type": "markdown",
   "source": "## Reading the Dataset",
   "id": "f22e3ccdf8fb0243"
  },
  {
   "metadata": {
    "ExecuteTime": {
     "end_time": "2025-05-23T04:44:25.150472Z",
     "start_time": "2025-05-23T04:44:18.181709Z"
    }
   },
   "cell_type": "code",
   "source": [
    "import_file_path = 'gold_prices.csv'\n",
    "\n",
    "df = spark.read.csv(import_file_path, header=True, inferSchema=True)\n",
    "df.show(5)"
   ],
   "id": "62e87225c78840a6",
   "outputs": [
    {
     "name": "stdout",
     "output_type": "stream",
     "text": [
      "+----------+---------+----------+\n",
      "|      Date|Buy Price|Sell Price|\n",
      "+----------+---------+----------+\n",
      "|2009-08-01|    21.13|     21.19|\n",
      "|2009-08-02|    21.13|     21.19|\n",
      "|2009-08-03|    21.13|     21.19|\n",
      "|2009-08-04|    21.13|     21.19|\n",
      "|2009-08-05|    21.13|     21.19|\n",
      "+----------+---------+----------+\n",
      "only showing top 5 rows\n",
      "\n"
     ]
    }
   ],
   "execution_count": 3
  },
  {
   "metadata": {
    "ExecuteTime": {
     "end_time": "2025-05-23T04:44:26.963729Z",
     "start_time": "2025-05-23T04:44:25.255787Z"
    }
   },
   "cell_type": "code",
   "source": "df.describe().show()",
   "id": "6648258c67e15da8",
   "outputs": [
    {
     "name": "stdout",
     "output_type": "stream",
     "text": [
      "+-------+------------------+------------------+\n",
      "|summary|         Buy Price|        Sell Price|\n",
      "+-------+------------------+------------------+\n",
      "|  count|              5565|              5565|\n",
      "|   mean|  45.5656999101527|46.017667565139305|\n",
      "| stddev|14.892834946578136|15.353833530564659|\n",
      "|    min|             21.13|             21.19|\n",
      "|    max|              89.0|              91.3|\n",
      "+-------+------------------+------------------+\n",
      "\n"
     ]
    }
   ],
   "execution_count": 4
  },
  {
   "metadata": {
    "ExecuteTime": {
     "end_time": "2025-05-23T04:44:27.578627Z",
     "start_time": "2025-05-23T04:44:27.570568Z"
    }
   },
   "cell_type": "code",
   "source": "df.printSchema()",
   "id": "775211837454fe34",
   "outputs": [
    {
     "name": "stdout",
     "output_type": "stream",
     "text": [
      "root\n",
      " |-- Date: date (nullable = true)\n",
      " |-- Buy Price: double (nullable = true)\n",
      " |-- Sell Price: double (nullable = true)\n",
      "\n"
     ]
    }
   ],
   "execution_count": 5
  },
  {
   "metadata": {},
   "cell_type": "markdown",
   "source": "# Generating Samples",
   "id": "2cec31f754724959"
  },
  {
   "metadata": {},
   "cell_type": "markdown",
   "source": "## Main Function",
   "id": "818232192c9bf7b5"
  },
  {
   "metadata": {
    "ExecuteTime": {
     "end_time": "2025-05-23T04:44:32.188957Z",
     "start_time": "2025-05-23T04:44:27.652304Z"
    }
   },
   "cell_type": "code",
   "source": [
    "import pyspark.sql.functions as F\n",
    "from pyspark.sql import Window\n",
    "from pyspark.ml.feature import VectorAssembler\n",
    "import random\n",
    "\n",
    "\n",
    "def generate_samples(dataset: DataFrame, random_state: int = None,\n",
    "                     n_days: int = 10, n_sample: int = 4000,\n",
    "                     target_buy_col: str = 'Buy Price',\n",
    "                     target_sell_col: str = 'Sell Price') -> DataFrame:\n",
    "\t\"\"\"\n",
    "  A function to generate a sample dataframe from a dataset.\n",
    "\n",
    "  :param dataset: Dataframe for sampling.\n",
    "  :param random_state: Seed to set for consistent reproduction.\n",
    "  :param n_days: Range of days prior to t, default is 10.\n",
    "  :param n_sample: Number of samples to generate, default is 1000.\n",
    "  :param target_buy_col: Target buy column to collect.\n",
    "  :param target_sell_col: Target sell column to collect.\n",
    "  :return: Sample dataframe with n features.\n",
    "  \"\"\"\n",
    "\n",
    "\t\"\"\"\n",
    "\tStep 1: Setting up the dataframe\n",
    "\t\"\"\"\n",
    "\tsamples = dataset\n",
    "\twindow = Window.orderBy('Date')\n",
    "\tindex_col = 'Index'\n",
    "\tsamples = samples.withColumn(index_col, F.row_number().over(window))\n",
    "\n",
    "\t\"\"\"\n",
    "  Step 2: Generating a list of random indices\n",
    "  \"\"\"\n",
    "\tif random_state is not None:\n",
    "\t\trandom.seed(random_state)\n",
    "\n",
    "\t# Making sure it starts from a valid date to collect n_days previous rows\n",
    "\tsize = samples.agg(F.max(index_col)).collect()[0][0]\n",
    "\tpopulation = range(n_days + 1, size + 1)\n",
    "\tsample_indices = set(random.sample(population, n_sample))\n",
    "\n",
    "\t\"\"\"\n",
    "  Step 3: Collecting the buy price of previous n_days:\n",
    "  - Generating a temporary column for indexing\n",
    "  - Generate values for rows whose index is within sample_indices\n",
    "  \"\"\"\n",
    "\tbuy_features = []\n",
    "\tsell_features = []\n",
    "\tcondition = F.col(index_col).isin(sample_indices)\n",
    "\n",
    "\tfor i in range(1, n_days + 1):\n",
    "\t\tbuy_feature_col = f'b{i}'\n",
    "\t\tsell_feature_col = f's{i}'\n",
    "\t\tbuy_features.append(buy_feature_col)\n",
    "\t\tsell_features.append(sell_feature_col)\n",
    "\n",
    "\t\tsamples = samples.select(\n",
    "\t\t\tF.col('*'),\n",
    "\n",
    "\t\t\tF.when(\n",
    "\t\t\t\tcondition,\n",
    "\t\t\t\tF.lag(target_buy_col, i, None).over(window)\n",
    "\t\t\t).otherwise(\n",
    "\t\t\t\tF.lit(None)\n",
    "\t\t\t).alias(buy_feature_col),\n",
    "\n",
    "\t\t\tF.when(\n",
    "\t\t\t\tcondition,\n",
    "\t\t\t\tF.lag(target_sell_col, i, None).over(window)\n",
    "\t\t\t).otherwise(\n",
    "\t\t\t\tF.lit(None)\n",
    "\t\t\t).alias(sell_feature_col),\n",
    "\t\t)\n",
    "\n",
    "\t\"\"\"\n",
    "  Step 4: Cleaning the dataset:\n",
    "  - Dropping unnecessary columns as well as null.\n",
    "  - Changing target_col column name to 'Current {target_col}'\n",
    "  \"\"\"\n",
    "\tsamples = samples.drop(index_col)\n",
    "\tsamples = samples.withColumnRenamed(target_buy_col, f'Current {target_buy_col}') \\\n",
    "\t\t.withColumnRenamed(target_sell_col, f'Current {target_sell_col}')\n",
    "\n",
    "\tsamples = samples.dropna()\n",
    "\n",
    "\t\"\"\"\n",
    "  Transforming the sample dataframe by collecting feature\n",
    "   columns into a single column named 'Previous {target_col}(s)'\n",
    "  \"\"\"\n",
    "\tfor features, col in [[buy_features, target_buy_col], [sell_features, target_sell_col]]:\n",
    "\t\tassembler = VectorAssembler(\n",
    "\t\t\tinputCols=features,\n",
    "\t\t\toutputCol=f'Previous {col}(s)',\n",
    "\t\t)\n",
    "\n",
    "\t\tsamples = assembler.transform(samples)\n",
    "\n",
    "\t\"\"\"\n",
    "  Dropping all the previous feature columns\n",
    "  \"\"\"\n",
    "\tfor col in buy_features + sell_features:\n",
    "\t\tsamples = samples.drop(col)\n",
    "\n",
    "\treturn samples"
   ],
   "id": "34b9448941364be",
   "outputs": [],
   "execution_count": 6
  },
  {
   "metadata": {
    "ExecuteTime": {
     "end_time": "2025-05-23T04:44:44.857034Z",
     "start_time": "2025-05-23T04:44:32.287801Z"
    }
   },
   "cell_type": "code",
   "source": [
    "sample_df = generate_samples(df, random_state=38)\n",
    "# isCorrect = True\n",
    "#\n",
    "# while isCorrect:\n",
    "# \tsample_df = generate_samples(\n",
    "# \t\tdf.limit(5),\n",
    "# \t\tn_days=2,\n",
    "# \t\tn_sample=3,\n",
    "# \t\trandom_state=42,\n",
    "# \t\tcols_to_remove=['Date', 'Sell Price']\n",
    "# \t)\n",
    "#\n",
    "# \tif sample_df.count() == 3:\n",
    "# \t\tisCorrect = False\n",
    "\n",
    "sample_df.show(10)"
   ],
   "id": "9f4808a92a10267d",
   "outputs": [
    {
     "name": "stdout",
     "output_type": "stream",
     "text": [
      "+----------+-----------------+------------------+---------------------+----------------------+\n",
      "|      Date|Current Buy Price|Current Sell Price|Previous Buy Price(s)|Previous Sell Price(s)|\n",
      "+----------+-----------------+------------------+---------------------+----------------------+\n",
      "|2009-08-12|            21.13|             21.19| [21.13,21.13,21.1...|  [21.19,21.19,21.1...|\n",
      "|2009-08-13|            21.13|             21.19| [21.13,21.13,21.1...|  [21.19,21.19,21.1...|\n",
      "|2009-08-15|            21.13|             21.19| [21.13,21.13,21.1...|  [21.19,21.19,21.1...|\n",
      "|2009-08-16|            21.13|             21.19| [21.13,21.13,21.1...|  [21.19,21.19,21.1...|\n",
      "|2009-08-17|            21.13|             21.19| [21.13,21.13,21.1...|  [21.19,21.19,21.1...|\n",
      "|2009-08-18|            21.13|             21.19| [21.13,21.13,21.1...|  [21.19,21.19,21.1...|\n",
      "|2009-08-20|            21.13|             21.19| [21.13,21.13,21.1...|  [21.19,21.19,21.1...|\n",
      "|2009-08-22|            21.13|             21.19| [21.13,21.13,21.1...|  [21.19,21.19,21.1...|\n",
      "|2009-08-24|            21.13|             21.19| [21.13,21.13,21.1...|  [21.19,21.19,21.1...|\n",
      "|2009-08-25|            21.13|             21.19| [21.13,21.13,21.1...|  [21.19,21.19,21.1...|\n",
      "+----------+-----------------+------------------+---------------------+----------------------+\n",
      "only showing top 10 rows\n",
      "\n"
     ]
    }
   ],
   "execution_count": 7
  },
  {
   "metadata": {},
   "cell_type": "markdown",
   "source": "## Saving the Generated Samples",
   "id": "3aff91e92ed70634"
  },
  {
   "metadata": {
    "ExecuteTime": {
     "end_time": "2025-05-23T04:44:44.993237Z",
     "start_time": "2025-05-23T04:44:44.985853Z"
    }
   },
   "cell_type": "code",
   "source": [
    "# from pyspark.sql.types import StringType\n",
    "#\n",
    "# export_df = sample_df\n",
    "#\n",
    "# # Converting the Dataframe to a suitable format to export\n",
    "# for col in ['Buy', 'Sell']:\n",
    "# \tcol = f'Previous {col} Price(s)'\n",
    "# \texport_df = export_df.withColumn(\n",
    "# \t\tcol,\n",
    "# \t\tF.col(col).cast(StringType())\n",
    "# \t)\n",
    "#\n",
    "# export_file_path = 'generated_samples'\n",
    "#\n",
    "# export_df.coalesce(1).write.csv(\n",
    "# \texport_file_path,\n",
    "# \theader=True,\n",
    "# \tmode='overwrite'\n",
    "# )\n",
    "#\n",
    "# print(f'Generated samples saved to {export_file_path}')"
   ],
   "id": "7405593ebdfc4e16",
   "outputs": [],
   "execution_count": 8
  },
  {
   "metadata": {},
   "cell_type": "markdown",
   "source": "# Training and Predicting",
   "id": "92aa10797e04984f"
  },
  {
   "metadata": {},
   "cell_type": "markdown",
   "source": "## Splitting the Training and Testing Sets",
   "id": "8967f7fa4bab6dbb"
  },
  {
   "metadata": {
    "ExecuteTime": {
     "end_time": "2025-05-23T04:44:45.277912Z",
     "start_time": "2025-05-23T04:44:45.082612Z"
    }
   },
   "cell_type": "code",
   "source": "train_set, test_set = sample_df.randomSplit(weights=[0.7, 0.3], seed=2)",
   "id": "1e32f0cc5394b2af",
   "outputs": [],
   "execution_count": 9
  },
  {
   "metadata": {
    "ExecuteTime": {
     "end_time": "2025-05-23T04:44:48.872506Z",
     "start_time": "2025-05-23T04:44:45.372653Z"
    }
   },
   "cell_type": "code",
   "source": "train_set.show(10)",
   "id": "8ec20e744b420c00",
   "outputs": [
    {
     "name": "stdout",
     "output_type": "stream",
     "text": [
      "+----------+-----------------+------------------+---------------------+----------------------+\n",
      "|      Date|Current Buy Price|Current Sell Price|Previous Buy Price(s)|Previous Sell Price(s)|\n",
      "+----------+-----------------+------------------+---------------------+----------------------+\n",
      "|2009-08-12|            21.13|             21.19| [21.13,21.13,21.1...|  [21.19,21.19,21.1...|\n",
      "|2009-08-13|            21.13|             21.19| [21.13,21.13,21.1...|  [21.19,21.19,21.1...|\n",
      "|2009-08-15|            21.13|             21.19| [21.13,21.13,21.1...|  [21.19,21.19,21.1...|\n",
      "|2009-08-16|            21.13|             21.19| [21.13,21.13,21.1...|  [21.19,21.19,21.1...|\n",
      "|2009-08-18|            21.13|             21.19| [21.13,21.13,21.1...|  [21.19,21.19,21.1...|\n",
      "|2009-08-20|            21.13|             21.19| [21.13,21.13,21.1...|  [21.19,21.19,21.1...|\n",
      "|2009-08-22|            21.13|             21.19| [21.13,21.13,21.1...|  [21.19,21.19,21.1...|\n",
      "|2009-08-25|            21.13|             21.19| [21.13,21.13,21.1...|  [21.19,21.19,21.1...|\n",
      "|2009-08-26|            21.13|             21.19| [21.13,21.13,21.1...|  [21.19,21.19,21.1...|\n",
      "|2009-09-21|            22.09|             22.14| [21.13,21.13,21.1...|  [21.19,21.19,21.1...|\n",
      "+----------+-----------------+------------------+---------------------+----------------------+\n",
      "only showing top 10 rows\n",
      "\n"
     ]
    }
   ],
   "execution_count": 10
  },
  {
   "metadata": {
    "ExecuteTime": {
     "end_time": "2025-05-23T04:44:51.363705Z",
     "start_time": "2025-05-23T04:44:48.963929Z"
    }
   },
   "cell_type": "code",
   "source": "test_set.show(10)",
   "id": "a73f0704d442ae0a",
   "outputs": [
    {
     "name": "stdout",
     "output_type": "stream",
     "text": [
      "+----------+-----------------+------------------+---------------------+----------------------+\n",
      "|      Date|Current Buy Price|Current Sell Price|Previous Buy Price(s)|Previous Sell Price(s)|\n",
      "+----------+-----------------+------------------+---------------------+----------------------+\n",
      "|2009-08-17|            21.13|             21.19| [21.13,21.13,21.1...|  [21.19,21.19,21.1...|\n",
      "|2009-08-24|            21.13|             21.19| [21.13,21.13,21.1...|  [21.19,21.19,21.1...|\n",
      "|2009-09-24|            22.23|             22.28| [22.27,22.22,22.0...|  [22.32,22.28,22.1...|\n",
      "|2009-09-26|            22.04|             22.09| [22.07,22.23,22.2...|  [22.13,22.28,22.3...|\n",
      "|2009-10-02|            22.18|             22.23| [22.25,22.19,22.0...|  [22.3,22.24,22.14...|\n",
      "|2009-10-12|            23.15|              23.2| [23.07,23.07,23.0...|  [23.12,23.12,23.0...|\n",
      "|2009-10-16|            23.47|             23.52| [23.57,23.76,23.4...|  [23.64,23.84,23.5...|\n",
      "|2009-10-21|            23.74|             23.79| [23.82,23.65,23.5...|  [23.89,23.7,23.62...|\n",
      "|2009-10-22|             23.8|             23.85| [23.74,23.82,23.6...|  [23.79,23.89,23.7...|\n",
      "|2009-10-25|            23.89|             23.94| [23.89,23.89,23.8...|  [23.94,23.94,23.8...|\n",
      "+----------+-----------------+------------------+---------------------+----------------------+\n",
      "only showing top 10 rows\n",
      "\n"
     ]
    }
   ],
   "execution_count": 11
  },
  {
   "metadata": {},
   "cell_type": "markdown",
   "source": "## Training the Models",
   "id": "44a4946d444812dc"
  },
  {
   "metadata": {
    "ExecuteTime": {
     "end_time": "2025-05-23T04:45:34.798554Z",
     "start_time": "2025-05-23T04:44:51.454594Z"
    }
   },
   "cell_type": "code",
   "source": [
    "from pyspark.ml.regression import LinearRegression\n",
    "\n",
    "\n",
    "def create_model(target_col: str, dataset: DataFrame):\n",
    "\tlg = LinearRegression(\n",
    "\t\tfeaturesCol=f'Previous {target_col} Price(s)',\n",
    "\t\tlabelCol=f'Current {target_col} Price',\n",
    "\t\tpredictionCol=f'Predicted {target_col} Price',\n",
    "\t\tsolver='l-bfgs',\n",
    "\t)\n",
    "\n",
    "\treturn lg.fit(dataset)\n",
    "\n",
    "\n",
    "lg_buy_model = create_model('Buy', train_set)\n",
    "lg_sell_model = create_model('Sell', train_set)"
   ],
   "id": "8780a5a3436a1b82",
   "outputs": [],
   "execution_count": 12
  },
  {
   "metadata": {},
   "cell_type": "markdown",
   "source": "## Making Predictions",
   "id": "431ea2556c44544d"
  },
  {
   "metadata": {
    "ExecuteTime": {
     "end_time": "2025-05-23T04:45:37.157894Z",
     "start_time": "2025-05-23T04:45:34.880567Z"
    }
   },
   "cell_type": "code",
   "source": [
    "predictions = lg_buy_model.transform(test_set)\n",
    "predictions = lg_sell_model.transform(predictions)\n",
    "predictions.show(5)"
   ],
   "id": "842aa4af39a7b4cb",
   "outputs": [
    {
     "name": "stdout",
     "output_type": "stream",
     "text": [
      "+----------+-----------------+------------------+---------------------+----------------------+-------------------+--------------------+\n",
      "|      Date|Current Buy Price|Current Sell Price|Previous Buy Price(s)|Previous Sell Price(s)|Predicted Buy Price|Predicted Sell Price|\n",
      "+----------+-----------------+------------------+---------------------+----------------------+-------------------+--------------------+\n",
      "|2009-08-17|            21.13|             21.19| [21.13,21.13,21.1...|  [21.19,21.19,21.1...| 21.138918864883895|   21.20003902038235|\n",
      "|2009-08-24|            21.13|             21.19| [21.13,21.13,21.1...|  [21.19,21.19,21.1...| 21.138918864883895|   21.20003902038235|\n",
      "|2009-09-24|            22.23|             22.28| [22.27,22.22,22.0...|  [22.32,22.28,22.1...|   22.3010512673204|  22.320129794228016|\n",
      "|2009-09-26|            22.04|             22.09| [22.07,22.23,22.2...|  [22.13,22.28,22.3...|  22.06832779774004|  22.150291609219487|\n",
      "|2009-10-02|            22.18|             22.23| [22.25,22.19,22.0...|  [22.3,22.24,22.14...| 22.254196873650077|   22.30617109151352|\n",
      "+----------+-----------------+------------------+---------------------+----------------------+-------------------+--------------------+\n",
      "only showing top 5 rows\n",
      "\n"
     ]
    }
   ],
   "execution_count": 13
  },
  {
   "metadata": {},
   "cell_type": "markdown",
   "source": "# Evaluating the Model",
   "id": "14ae386586562a0"
  },
  {
   "metadata": {
    "ExecuteTime": {
     "end_time": "2025-05-23T04:45:37.258227Z",
     "start_time": "2025-05-23T04:45:37.250757Z"
    }
   },
   "cell_type": "code",
   "source": [
    "def evaluate_model(dataset: DataFrame, model: LinearRegression):\n",
    "\t\"\"\"\n",
    "  A function to evaluate the model performance based on a given dataset.\n",
    "  :param dataset: The dataframe for evaluation.\n",
    "  :param model: A Linear Regression model.\n",
    "  :return: Dictionary of evaluation results using different metrics.\n",
    "  \"\"\"\n",
    "\n",
    "\tevaluation = model.evaluate(dataset)\n",
    "\n",
    "\tmetrics = {\n",
    "\t\t'Root Mean Squared Error': evaluation.rootMeanSquaredError,\n",
    "\t\t'R2': evaluation.r2,\n",
    "\t\t'Mean Absolute Error': evaluation.meanAbsoluteError,\n",
    "\t\t'Explained Variance': evaluation.explainedVariance,\n",
    "\t}\n",
    "\n",
    "\tmax_len = 24\n",
    "\n",
    "\tprint('\\n', model)\n",
    "\tfor metric in metrics.keys():\n",
    "\t\tprint(f'{metric:<{max_len}}: {metrics.get(metric):.4f}')\n",
    "\n",
    "\treturn metrics"
   ],
   "id": "9b686cd694eb3d77",
   "outputs": [],
   "execution_count": 14
  },
  {
   "metadata": {},
   "cell_type": "markdown",
   "source": "## On the Training Set",
   "id": "556f0bce143691fd"
  },
  {
   "metadata": {
    "ExecuteTime": {
     "end_time": "2025-05-23T04:45:39.239608Z",
     "start_time": "2025-05-23T04:45:37.374714Z"
    }
   },
   "cell_type": "code",
   "source": [
    "buy_train_evaluation = evaluate_model(train_set, lg_buy_model)\n",
    "sell_train_evaluation = evaluate_model(train_set, lg_sell_model)"
   ],
   "id": "b453ae53e8342af1",
   "outputs": [
    {
     "name": "stdout",
     "output_type": "stream",
     "text": [
      "\n",
      " LinearRegressionModel: uid=LinearRegression_53b9f1130fbf, numFeatures=10\n",
      "Root Mean Squared Error : 0.3232\n",
      "R2                      : 0.9995\n",
      "Mean Absolute Error     : 0.1450\n",
      "Explained Variance      : 225.7249\n",
      "\n",
      " LinearRegressionModel: uid=LinearRegression_2738380add4a, numFeatures=10\n",
      "Root Mean Squared Error : 0.3062\n",
      "R2                      : 0.9996\n",
      "Mean Absolute Error     : 0.1406\n",
      "Explained Variance      : 240.1171\n"
     ]
    }
   ],
   "execution_count": 15
  },
  {
   "metadata": {},
   "cell_type": "markdown",
   "source": "## On the Testing Set",
   "id": "c285d0780732e1e4"
  },
  {
   "metadata": {
    "ExecuteTime": {
     "end_time": "2025-05-23T04:45:41.139113Z",
     "start_time": "2025-05-23T04:45:39.319890Z"
    }
   },
   "cell_type": "code",
   "source": [
    "buy_test_evaluation = evaluate_model(test_set, lg_buy_model)\n",
    "sell_test_evaluation = evaluate_model(test_set, lg_sell_model)"
   ],
   "id": "4519aa022c30e9fe",
   "outputs": [
    {
     "name": "stdout",
     "output_type": "stream",
     "text": [
      "\n",
      " LinearRegressionModel: uid=LinearRegression_53b9f1130fbf, numFeatures=10\n",
      "Root Mean Squared Error : 0.2975\n",
      "R2                      : 0.9996\n",
      "Mean Absolute Error     : 0.1356\n",
      "Explained Variance      : 226.5322\n",
      "\n",
      " LinearRegressionModel: uid=LinearRegression_2738380add4a, numFeatures=10\n",
      "Root Mean Squared Error : 0.2913\n",
      "R2                      : 0.9996\n",
      "Mean Absolute Error     : 0.1319\n",
      "Explained Variance      : 240.6501\n"
     ]
    }
   ],
   "execution_count": 16
  },
  {
   "metadata": {},
   "cell_type": "markdown",
   "source": "# Illustration Charts",
   "id": "6c201365bd23b144"
  },
  {
   "metadata": {},
   "cell_type": "markdown",
   "source": "## Loss History",
   "id": "d69d4820641be104"
  },
  {
   "metadata": {
    "ExecuteTime": {
     "end_time": "2025-05-23T04:45:42.653294Z",
     "start_time": "2025-05-23T04:45:41.217987Z"
    }
   },
   "cell_type": "code",
   "source": [
    "import matplotlib.pyplot as plt\n",
    "\n",
    "\n",
    "def plot_loss_history(buy_model: LinearRegression, sell_model: LinearRegression):\n",
    "\tbuy_loss_history = buy_model.summary.objectiveHistory\n",
    "\tsell_loss_history = sell_model.summary.objectiveHistory\n",
    "\n",
    "\tif buy_loss_history and sell_loss_history:\n",
    "\t\tplt.figure(figsize=(8, 5))\n",
    "\t\tplt.plot(buy_loss_history, label='Buy Loss')\n",
    "\t\tplt.plot(sell_loss_history, label='Sell Loss')\n",
    "\t\tplt.title('Training Objective Function History')\n",
    "\t\tplt.xlabel('Iteration')\n",
    "\t\tplt.ylabel('Objective Function Value (Loss + Regularization)')\n",
    "\t\tplt.grid(True)\n",
    "\t\tplt.legend()\n",
    "\t\tplt.show()"
   ],
   "id": "35e6ef6ba9dd7f91",
   "outputs": [],
   "execution_count": 17
  },
  {
   "metadata": {
    "ExecuteTime": {
     "end_time": "2025-05-23T04:45:43.035661Z",
     "start_time": "2025-05-23T04:45:42.741637Z"
    }
   },
   "cell_type": "code",
   "source": "plot_loss_history(lg_buy_model, lg_sell_model)",
   "id": "9805b4228a99ee4d",
   "outputs": [
    {
     "data": {
      "text/plain": [
       "<Figure size 800x500 with 1 Axes>"
      ],
      "image/png": "[encoded data removed]"
     },
     "metadata": {},
     "output_type": "display_data"
    }
   ],
   "execution_count": 18
  },
  {
   "metadata": {},
   "cell_type": "markdown",
   "source": "## Performance Comparison",
   "id": "53c020cdac430a14"
  },
  {
   "metadata": {
    "ExecuteTime": {
     "end_time": "2025-05-23T04:45:43.130105Z",
     "start_time": "2025-05-23T04:45:43.112717Z"
    }
   },
   "cell_type": "code",
   "source": [
    "import numpy as np\n",
    "\n",
    "\n",
    "def plot_metrics_two_models(\n",
    "\t\ttrain_eval_model1: dict,\n",
    "\t\ttest_eval_model1: dict,\n",
    "\t\ttrain_eval_model2: dict,\n",
    "\t\ttest_eval_model2: dict,\n",
    "\t\tfirst_set: str = 'Dataset 1',\n",
    "\t\tsecond_set: str = 'Dataset 2',\n",
    "\t\tmodel1_name: str = 'Model 1',\n",
    "\t\tmodel2_name: str = 'Model 2'\n",
    "):\n",
    "\t\"\"\"\n",
    "  Plots evaluation metrics for two models, comparing their training and test set performance.\n",
    "\n",
    "\t:param train_eval_model1: Dictionary of training metrics for model 1.\n",
    "\t:param test_eval_model1: Dictionary of test metrics for model 1.\n",
    "\t:param train_eval_model2:Dictionary of training metrics for model 2.\n",
    "\t:param test_eval_model2: Dictionary of test metrics for model 2.\n",
    "\t:param first_set: Name of the first dataset.\n",
    "\t:param second_set: Name of the second dataset.\n",
    "\t:param model1_name: Name of the first model.\n",
    "\t:param model2_name: Name of the second model.\n",
    "\t\"\"\"\n",
    "\n",
    "\t# --- Plot for general metrics (excluding Explained Variance) ---\n",
    "\ttrain_eval_m1_copy = train_eval_model1.copy()\n",
    "\ttest_eval_m1_copy = test_eval_model1.copy()\n",
    "\ttrain_eval_m2_copy = train_eval_model2.copy()\n",
    "\ttest_eval_m2_copy = test_eval_model2.copy()\n",
    "\n",
    "\t# Pop 'Explained Variance' if it exists, store it for later\n",
    "\ttrain_var_m1 = train_eval_m1_copy.pop('Explained Variance', None)\n",
    "\ttest_var_m1 = test_eval_m1_copy.pop('Explained Variance', None)\n",
    "\ttrain_var_m2 = train_eval_m2_copy.pop('Explained Variance', None)\n",
    "\ttest_var_m2 = test_eval_m2_copy.pop('Explained Variance', None)\n",
    "\n",
    "\tevaluation_metrics = list(train_eval_m1_copy.keys())\n",
    "\tif evaluation_metrics:\n",
    "\t\tx = np.arange(len(evaluation_metrics))\n",
    "\t\tn_bars_per_group = 4\n",
    "\t\ttotal_width_for_group = 0.8  # Total width for the 4 bars for one metric\n",
    "\t\tbar_width = total_width_for_group / n_bars_per_group  # Width of a single bar\n",
    "\n",
    "\t\tfig, ax = plt.subplots(figsize=(12, 7))\n",
    "\n",
    "\t\trects1 = ax.bar(x - 1.5 * bar_width,\n",
    "\t\t                [train_eval_m1_copy.get(m, 0) for m in evaluation_metrics],  # Use .get for safety\n",
    "\t\t                bar_width,\n",
    "\t\t                label=f'{model1_name} - {first_set}')\n",
    "\t\trects2 = ax.bar(x - 0.5 * bar_width,\n",
    "\t\t                [test_eval_m1_copy.get(m, 0) for m in evaluation_metrics],\n",
    "\t\t                bar_width,\n",
    "\t\t                label=f'{model1_name} - {second_set}')\n",
    "\t\trects3 = ax.bar(x + 0.5 * bar_width,\n",
    "\t\t                [train_eval_m2_copy.get(m, 0) for m in evaluation_metrics],\n",
    "\t\t                bar_width,\n",
    "\t\t                label=f'{model2_name} - {first_set}')\n",
    "\t\trects4 = ax.bar(x + 1.5 * bar_width,\n",
    "\t\t                [test_eval_m2_copy.get(m, 0) for m in evaluation_metrics],\n",
    "\t\t                bar_width,\n",
    "\t\t                label=f'{model2_name} - {second_set}')\n",
    "\n",
    "\t\tax.set_ylabel('Metric Value')\n",
    "\t\tax.set_title('Model Evaluation Comparison')\n",
    "\t\tax.set_xticks(x)\n",
    "\t\tax.set_xticklabels(evaluation_metrics)\n",
    "\t\tax.legend()\n",
    "\n",
    "\t\tax.bar_label(rects1, fmt='%.4f')\n",
    "\t\tax.bar_label(rects2, fmt='%.4f')\n",
    "\t\tax.bar_label(rects3, fmt='%.4f')\n",
    "\t\tax.bar_label(rects4, fmt='%.4f')\n",
    "\n",
    "\t\tfig.tight_layout()\n",
    "\t\tplt.show()\n",
    "\n",
    "\t# --- Plot for 'Explained Variance' specifically ---\n",
    "\t# Check if any of the variance values are not None\n",
    "\tif any(v is not None for v in [train_var_m1, test_var_m1, train_var_m2, test_var_m2]):\n",
    "\t\tmetric_name = 'Explained Variance'\n",
    "\n",
    "\t\t# Prepare data for a grouped bar chart\n",
    "\t\tlabels = [f'{first_set} Set', f'{second_set} Set']\n",
    "\t\tm1_variances = [train_var_m1 if train_var_m1 is not None else 0,\n",
    "\t\t                test_var_m1 if test_var_m1 is not None else 0]\n",
    "\t\tm2_variances = [train_var_m2 if train_var_m2 is not None else 0,\n",
    "\t\t                test_var_m2 if test_var_m2 is not None else 0]\n",
    "\n",
    "\t\tx_ev = np.arange(len(labels))  # the label locations [0, 1]\n",
    "\t\twidth_ev = 0.35  # the width of the bars\n",
    "\n",
    "\t\tfig_ev, ax_ev = plt.subplots(figsize=(10, 6))\n",
    "\n",
    "\t\t# Bars for Model 1\n",
    "\t\trects_ev1 = ax_ev.bar(x_ev - width_ev / 2, m1_variances, width_ev,\n",
    "\t\t                      label=model1_name, color='deepskyblue')\n",
    "\t\t# Bars for Model 2\n",
    "\t\trects_ev2 = ax_ev.bar(x_ev + width_ev / 2, m2_variances, width_ev,\n",
    "\t\t                      label=model2_name, color='lightcoral')\n",
    "\n",
    "\t\t# Add some text for labels, title and custom x-axis tick labels, etc.\n",
    "\t\tax_ev.set_ylabel(f'{metric_name} Value')\n",
    "\t\tax_ev.set_title(f'{metric_name} Comparison: {first_set} vs. {second_set}')\n",
    "\t\tax_ev.set_xticks(x_ev)\n",
    "\t\tax_ev.set_xticklabels(labels)\n",
    "\t\tax_ev.legend()\n",
    "\n",
    "\t\tax_ev.bar_label(rects_ev1, padding=3, fmt='%.4f')\n",
    "\t\tax_ev.bar_label(rects_ev2, padding=3, fmt='%.4f')\n",
    "\n",
    "\t\t# Set y-axis limits to be more appropriate for variance (e.g., 0 to 1.1 if it's a score)\n",
    "\t\t# This is optional and depends on the expected range of explained variance\n",
    "\t\t# For scores typically between 0 and 1:\n",
    "\t\tall_variances = [v for v in m1_variances + m2_variances if v is not None]\n",
    "\t\tif all_variances and max(all_variances) <= 1.1 and min(all_variances) >= -0.1:  # A bit of margin\n",
    "\t\t\tax_ev.set_ylim([min(0, min(all_variances) - 0.1), max(1.05, max(all_variances) + 0.1)])\n",
    "\n",
    "\t\tfig_ev.tight_layout()\n",
    "\t\tplt.show()"
   ],
   "id": "6a8e061f0b78cb28",
   "outputs": [],
   "execution_count": 19
  },
  {
   "metadata": {
    "ExecuteTime": {
     "end_time": "2025-05-23T04:45:43.642036Z",
     "start_time": "2025-05-23T04:45:43.209745Z"
    }
   },
   "cell_type": "code",
   "source": [
    "plot_metrics_two_models(\n",
    "\tbuy_train_evaluation, buy_test_evaluation,\n",
    "\tsell_train_evaluation, sell_test_evaluation,\n",
    "\t'Train', 'Test',\n",
    "\t'Buy LR Model', 'Sell LR Model'\n",
    ")"
   ],
   "id": "8f7c7f9762ab5dba",
   "outputs": [
    {
     "data": {
      "text/plain": [
       "<Figure size 1200x700 with 1 Axes>"
      ],
      "image/png": "[encoded data removed]"
     },
     "metadata": {},
     "output_type": "display_data"
    },
    {
     "data": {
      "text/plain": [
       "<Figure size 1000x600 with 1 Axes>"
      ],
      "image/png": "[encoded data removed]"
     },
     "metadata": {},
     "output_type": "display_data"
    }
   ],
   "execution_count": 20
  },
  {
   "metadata": {
    "ExecuteTime": {
     "end_time": "2025-05-23T04:45:43.715828Z",
     "start_time": "2025-05-23T04:45:43.711632Z"
    }
   },
   "cell_type": "code",
   "source": "spark.stop()",
   "id": "5eced563620d3c1e",
   "outputs": [],
   "execution_count": 20
  }
 ],
 "metadata": {
  "kernelspec": {
   "display_name": "Python 3",
   "language": "python",
   "name": "python3"
  },
  "language_info": {
   "codemirror_mode": {
    "name": "ipython",
    "version": 2
   },
   "file_extension": ".py",
   "mimetype": "text/x-python",
   "name": "python",
   "nbconvert_exporter": "python",
   "pygments_lexer": "ipython2",
   "version": "2.7.6"
  }
 },
 "nbformat": 4,
 "nbformat_minor": 5
}
