{
 "cells": [
  {
   "metadata": {},
   "cell_type": "markdown",
   "source": "# Importing PySpark and Reading the Dataset",
   "id": "84be04cbeadac7dd"
  },
  {
   "metadata": {},
   "cell_type": "markdown",
   "source": "## Importing PySpark",
   "id": "c47a29c03350e423"
  },
  {
   "cell_type": "code",
   "id": "initial_id",
   "metadata": {
    "collapsed": true,
    "ExecuteTime": {
     "end_time": "2025-04-20T19:45:43.462693Z",
     "start_time": "2025-04-20T19:45:43.453994Z"
    }
   },
   "source": [
    "from pyspark.sql import SparkSession, DataFrame\n",
    "\n",
    "spark = SparkSession.builder.appName(\"Task02\").getOrCreate()\n",
    "\n",
    "print(spark)"
   ],
   "outputs": [
    {
     "name": "stdout",
     "output_type": "stream",
     "text": [
      "<pyspark.sql.session.SparkSession object at 0x00000174D7A6A010>\n"
     ]
    }
   ],
   "execution_count": 453
  },
  {
   "metadata": {
    "ExecuteTime": {
     "end_time": "2025-04-20T19:45:43.506694Z",
     "start_time": "2025-04-20T19:45:43.500710Z"
    }
   },
   "cell_type": "code",
   "source": "spark.version",
   "id": "f9a91c84e368c8ce",
   "outputs": [
    {
     "data": {
      "text/plain": [
       "'3.5.5'"
      ]
     },
     "execution_count": 454,
     "metadata": {},
     "output_type": "execute_result"
    }
   ],
   "execution_count": 454
  },
  {
   "metadata": {},
   "cell_type": "markdown",
   "source": "## Reading the Dataset",
   "id": "f22e3ccdf8fb0243"
  },
  {
   "metadata": {
    "ExecuteTime": {
     "end_time": "2025-04-20T19:45:43.706783Z",
     "start_time": "2025-04-20T19:45:43.562896Z"
    }
   },
   "cell_type": "code",
   "source": [
    "file_path = \"gold_prices.csv\"\n",
    "\n",
    "df = spark.read.csv(file_path, header=True, inferSchema=True)\n",
    "df.show(5)"
   ],
   "id": "62e87225c78840a6",
   "outputs": [
    {
     "name": "stdout",
     "output_type": "stream",
     "text": [
      "+----------+---------+----------+\n",
      "|      Date|Buy Price|Sell Price|\n",
      "+----------+---------+----------+\n",
      "|2009-08-01|    21.13|     21.19|\n",
      "|2009-08-02|    21.13|     21.19|\n",
      "|2009-08-03|    21.13|     21.19|\n",
      "|2009-08-04|    21.13|     21.19|\n",
      "|2009-08-05|    21.13|     21.19|\n",
      "+----------+---------+----------+\n",
      "only showing top 5 rows\n",
      "\n"
     ]
    }
   ],
   "execution_count": 455
  },
  {
   "metadata": {
    "ExecuteTime": {
     "end_time": "2025-04-20T19:45:43.849732Z",
     "start_time": "2025-04-20T19:45:43.766814Z"
    }
   },
   "cell_type": "code",
   "source": "df.describe().show()",
   "id": "6648258c67e15da8",
   "outputs": [
    {
     "name": "stdout",
     "output_type": "stream",
     "text": [
      "+-------+------------------+------------------+\n",
      "|summary|         Buy Price|        Sell Price|\n",
      "+-------+------------------+------------------+\n",
      "|  count|              5565|              5565|\n",
      "|   mean|  45.5656999101527|46.017667565139305|\n",
      "| stddev|14.892834946578136|15.353833530564659|\n",
      "|    min|             21.13|             21.19|\n",
      "|    max|              89.0|              91.3|\n",
      "+-------+------------------+------------------+\n",
      "\n"
     ]
    }
   ],
   "execution_count": 456
  },
  {
   "metadata": {
    "ExecuteTime": {
     "end_time": "2025-04-20T19:45:43.916024Z",
     "start_time": "2025-04-20T19:45:43.910107Z"
    }
   },
   "cell_type": "code",
   "source": "df.printSchema()",
   "id": "775211837454fe34",
   "outputs": [
    {
     "name": "stdout",
     "output_type": "stream",
     "text": [
      "root\n",
      " |-- Date: date (nullable = true)\n",
      " |-- Buy Price: double (nullable = true)\n",
      " |-- Sell Price: double (nullable = true)\n",
      "\n"
     ]
    }
   ],
   "execution_count": 457
  },
  {
   "metadata": {},
   "cell_type": "markdown",
   "source": "# Generating Samples",
   "id": "2cec31f754724959"
  },
  {
   "metadata": {
    "ExecuteTime": {
     "end_time": "2025-04-20T19:45:44.064755Z",
     "start_time": "2025-04-20T19:45:44.057832Z"
    }
   },
   "cell_type": "code",
   "source": [
    "from pyspark.sql.functions import lag\n",
    "from pyspark.sql import Window\n",
    "from pyspark.ml.feature import VectorAssembler\n",
    "\n",
    "def generate_samples(dataset: DataFrame, n: int = 10):\n",
    "  \"\"\"\n",
    "  A function to generate a sample dataframe from a dataset.\n",
    "  :param dataset: The dataframe for sampling.\n",
    "  :param n: The range of days prior to t, default is 10 days.\n",
    "  :return: Sample dataframe with n features.\n",
    "  \"\"\"\n",
    "\n",
    "  \"\"\"\n",
    "  Collecting the buy price of previous lag_range number of days\n",
    "    for feature columns of the new sample dataframe\n",
    "  \"\"\"\n",
    "  samples = dataset\n",
    "  features = []\n",
    "  window = Window.orderBy(\"Date\")\n",
    "\n",
    "  for i in range(1, n+1):\n",
    "    samples = samples.withColumn(\n",
    "      f\"t-{i}\",\n",
    "      lag(\"Buy Price\", i).over(window)\n",
    "    )\n",
    "    features.append(f\"t-{i}\")\n",
    "\n",
    "\n",
    "\n",
    "  \"\"\"\n",
    "  Dropping the \"Date\" and \"Sell Price\" columns as well as null\n",
    "    value rows from the dataframe, while also changing the\n",
    "    \"Buy Price\" column name to \"t\"\n",
    "  \"\"\"\n",
    "  samples = samples.drop(\"Date\", \"Sell Price\")\n",
    "  samples = samples.withColumnRenamed(\"Buy Price\", \"Current Buy Price\")\n",
    "  samples = samples.dropna()\n",
    "\n",
    "\n",
    "\n",
    "  \"\"\"\n",
    "  Converting the sample dataframe feature columns into a single\n",
    "    column suitable for machine learning model fit function.\n",
    "  \"\"\"\n",
    "  assembler = VectorAssembler(\n",
    "    inputCols = features,\n",
    "    outputCol = \"Previous Buy Prices\",\n",
    "  )\n",
    "\n",
    "  samples = assembler.transform(samples)\n",
    "\n",
    "\n",
    "\n",
    "  \"\"\"\n",
    "  Dropping all the spare columns\n",
    "  \"\"\"\n",
    "  for col in features:\n",
    "    samples = samples.drop(col)\n",
    "\n",
    "  return samples"
   ],
   "id": "34b9448941364be",
   "outputs": [],
   "execution_count": 458
  },
  {
   "metadata": {
    "ExecuteTime": {
     "end_time": "2025-04-20T19:45:44.290240Z",
     "start_time": "2025-04-20T19:45:44.086316Z"
    }
   },
   "cell_type": "code",
   "source": [
    "sample_df = generate_samples(df)\n",
    "sample_df.show(5)"
   ],
   "id": "9f4808a92a10267d",
   "outputs": [
    {
     "name": "stdout",
     "output_type": "stream",
     "text": [
      "+-----------------+--------------------+\n",
      "|Current Buy Price| Previous Buy Prices|\n",
      "+-----------------+--------------------+\n",
      "|            21.13|[21.13,21.13,21.1...|\n",
      "|            21.13|[21.13,21.13,21.1...|\n",
      "|            21.13|[21.13,21.13,21.1...|\n",
      "|            21.13|[21.13,21.13,21.1...|\n",
      "|            21.13|[21.13,21.13,21.1...|\n",
      "+-----------------+--------------------+\n",
      "only showing top 5 rows\n",
      "\n"
     ]
    }
   ],
   "execution_count": 459
  },
  {
   "metadata": {},
   "cell_type": "markdown",
   "source": "# Training and Predicting",
   "id": "92aa10797e04984f"
  },
  {
   "metadata": {},
   "cell_type": "markdown",
   "source": "## Splitting the Training and Testing Sets",
   "id": "8967f7fa4bab6dbb"
  },
  {
   "metadata": {
    "ExecuteTime": {
     "end_time": "2025-04-20T19:45:44.358972Z",
     "start_time": "2025-04-20T19:45:44.347666Z"
    }
   },
   "cell_type": "code",
   "source": "train_set, test_set = sample_df.randomSplit(weights=[0.7, 0.3], seed=2)",
   "id": "1e32f0cc5394b2af",
   "outputs": [],
   "execution_count": 460
  },
  {
   "metadata": {
    "ExecuteTime": {
     "end_time": "2025-04-20T19:45:44.524333Z",
     "start_time": "2025-04-20T19:45:44.416954Z"
    }
   },
   "cell_type": "code",
   "source": "train_set.show(5)",
   "id": "8ec20e744b420c00",
   "outputs": [
    {
     "name": "stdout",
     "output_type": "stream",
     "text": [
      "+-----------------+--------------------+\n",
      "|Current Buy Price| Previous Buy Prices|\n",
      "+-----------------+--------------------+\n",
      "|            21.13|[21.13,21.13,21.1...|\n",
      "|            21.13|[21.13,21.13,21.1...|\n",
      "|            21.13|[21.13,21.13,21.1...|\n",
      "|            21.13|[21.13,21.13,21.1...|\n",
      "|            21.13|[21.13,21.13,21.1...|\n",
      "+-----------------+--------------------+\n",
      "only showing top 5 rows\n",
      "\n"
     ]
    }
   ],
   "execution_count": 461
  },
  {
   "metadata": {
    "ExecuteTime": {
     "end_time": "2025-04-20T19:45:44.666360Z",
     "start_time": "2025-04-20T19:45:44.577111Z"
    }
   },
   "cell_type": "code",
   "source": "test_set.show(5)",
   "id": "a73f0704d442ae0a",
   "outputs": [
    {
     "name": "stdout",
     "output_type": "stream",
     "text": [
      "+-----------------+--------------------+\n",
      "|Current Buy Price| Previous Buy Prices|\n",
      "+-----------------+--------------------+\n",
      "|            21.13|[21.13,21.13,21.1...|\n",
      "|            21.13|[21.13,21.13,21.1...|\n",
      "|            21.13|[21.13,21.13,21.1...|\n",
      "|            22.04|[22.04,22.07,22.2...|\n",
      "|            22.09|[21.13,21.13,21.1...|\n",
      "+-----------------+--------------------+\n",
      "only showing top 5 rows\n",
      "\n"
     ]
    }
   ],
   "execution_count": 462
  },
  {
   "metadata": {},
   "cell_type": "markdown",
   "source": "## Training the Model",
   "id": "44a4946d444812dc"
  },
  {
   "metadata": {
    "ExecuteTime": {
     "end_time": "2025-04-20T19:45:46.028740Z",
     "start_time": "2025-04-20T19:45:44.727523Z"
    }
   },
   "cell_type": "code",
   "source": [
    "from pyspark.ml.regression import LinearRegression\n",
    "\n",
    "lg = LinearRegression(\n",
    "  featuresCol=\"Previous Buy Prices\",\n",
    "  labelCol=\"Current Buy Price\",\n",
    "  solver=\"l-bfgs\",\n",
    ")\n",
    "\n",
    "lg_model = lg.fit(train_set)"
   ],
   "id": "8780a5a3436a1b82",
   "outputs": [],
   "execution_count": 463
  },
  {
   "metadata": {},
   "cell_type": "markdown",
   "source": "## Making Predictions",
   "id": "932203e259c18afc"
  },
  {
   "metadata": {
    "ExecuteTime": {
     "end_time": "2025-04-20T19:45:46.174277Z",
     "start_time": "2025-04-20T19:45:46.079595Z"
    }
   },
   "cell_type": "code",
   "source": [
    "predictions = (lg_model.transform(test_set)\n",
    "               .withColumnRenamed(\"prediction\", \"Predicted Buy Price\"))\n",
    "predictions.show(5)"
   ],
   "id": "842aa4af39a7b4cb",
   "outputs": [
    {
     "name": "stdout",
     "output_type": "stream",
     "text": [
      "+-----------------+--------------------+-------------------+\n",
      "|Current Buy Price| Previous Buy Prices|Predicted Buy Price|\n",
      "+-----------------+--------------------+-------------------+\n",
      "|            21.13|[21.13,21.13,21.1...| 21.142049544939837|\n",
      "|            21.13|[21.13,21.13,21.1...| 21.142049544939837|\n",
      "|            21.13|[21.13,21.13,21.1...| 21.142049544939837|\n",
      "|            22.04|[22.04,22.07,22.2...| 22.036285044242522|\n",
      "|            22.09|[21.13,21.13,21.1...| 21.142049544939837|\n",
      "+-----------------+--------------------+-------------------+\n",
      "only showing top 5 rows\n",
      "\n"
     ]
    }
   ],
   "execution_count": 464
  },
  {
   "metadata": {},
   "cell_type": "markdown",
   "source": "# Evaluating the Model",
   "id": "14ae386586562a0"
  },
  {
   "metadata": {
    "ExecuteTime": {
     "end_time": "2025-04-20T19:45:46.236253Z",
     "start_time": "2025-04-20T19:45:46.231103Z"
    }
   },
   "cell_type": "code",
   "source": [
    "def evaluate_model(dataset: DataFrame):\n",
    "  \"\"\"\n",
    "  A function to evaluate the model performance based on a given dataset.\n",
    "  :param dataset: The dataframe for evaluation.\n",
    "  :return: Dictionary of evaluation results using different metrics.\n",
    "  \"\"\"\n",
    "\n",
    "  evaluation = lg_model.evaluate(dataset)\n",
    "\n",
    "  metrics = {\n",
    "    \"Root Mean Squared Error\": evaluation.rootMeanSquaredError,\n",
    "    \"Mean Squared Error\": evaluation.meanSquaredError,\n",
    "    \"R2\": evaluation.r2,\n",
    "    \"Mean Absolute Error\": evaluation.meanAbsoluteError,\n",
    "    \"Explained Variance\": evaluation.explainedVariance,\n",
    "    \"R2 Adjusted\": evaluation.r2adj,\n",
    "  }\n",
    "\n",
    "  max_len = 24\n",
    "\n",
    "  for metric in metrics.keys():\n",
    "    print(f\"{metric:<{max_len}}: {metrics.get(metric):.4f}\")\n",
    "\n",
    "  return metrics"
   ],
   "id": "9b686cd694eb3d77",
   "outputs": [],
   "execution_count": 465
  },
  {
   "metadata": {},
   "cell_type": "markdown",
   "source": "## On the Training Set",
   "id": "556f0bce143691fd"
  },
  {
   "metadata": {
    "ExecuteTime": {
     "end_time": "2025-04-20T19:45:46.390064Z",
     "start_time": "2025-04-20T19:45:46.290882Z"
    }
   },
   "cell_type": "code",
   "source": "train_evaluation = evaluate_model(train_set)",
   "id": "b453ae53e8342af1",
   "outputs": [
    {
     "name": "stdout",
     "output_type": "stream",
     "text": [
      "Root Mean Squared Error : 0.3067\n",
      "Mean Squared Error      : 0.0940\n",
      "R2                      : 0.9996\n",
      "Mean Absolute Error     : 0.1396\n",
      "Explained Variance      : 227.2342\n",
      "R2 Adjusted             : 0.9996\n"
     ]
    }
   ],
   "execution_count": 466
  },
  {
   "metadata": {},
   "cell_type": "markdown",
   "source": "## On the Testing Set",
   "id": "c285d0780732e1e4"
  },
  {
   "metadata": {
    "ExecuteTime": {
     "end_time": "2025-04-20T19:45:46.544490Z",
     "start_time": "2025-04-20T19:45:46.444513Z"
    }
   },
   "cell_type": "code",
   "source": "test_evaluation = evaluate_model(test_set)",
   "id": "4519aa022c30e9fe",
   "outputs": [
    {
     "name": "stdout",
     "output_type": "stream",
     "text": [
      "Root Mean Squared Error : 0.3138\n",
      "Mean Squared Error      : 0.0985\n",
      "R2                      : 0.9995\n",
      "Mean Absolute Error     : 0.1418\n",
      "Explained Variance      : 205.8075\n",
      "R2 Adjusted             : 0.9995\n"
     ]
    }
   ],
   "execution_count": 467
  },
  {
   "metadata": {},
   "cell_type": "markdown",
   "source": "# Illustration Charts",
   "id": "6c201365bd23b144"
  },
  {
   "metadata": {},
   "cell_type": "markdown",
   "source": "## Line Chart",
   "id": "d69d4820641be104"
  },
  {
   "metadata": {
    "ExecuteTime": {
     "end_time": "2025-04-20T19:45:46.719512Z",
     "start_time": "2025-04-20T19:45:46.607374Z"
    }
   },
   "cell_type": "code",
   "source": [
    "import matplotlib.pyplot as plt\n",
    "\n",
    "loss_history = lg_model.summary.objectiveHistory\n",
    "\n",
    "if loss_history:\n",
    "  plt.figure(figsize=(8, 5))\n",
    "  plt.plot(loss_history)\n",
    "  plt.title('Training Objective Function History')\n",
    "  plt.xlabel('Iteration')\n",
    "  plt.ylabel('Objective Function Value (Loss + Regularization)')\n",
    "  plt.grid(True)\n",
    "  plt.show()"
   ],
   "id": "35e6ef6ba9dd7f91",
   "outputs": [
    {
     "data": {
      "text/plain": [
       "<Figure size 800x500 with 1 Axes>"
      ],
      "image/png": "[encoded data removed]"
     },
     "metadata": {},
     "output_type": "display_data"
    }
   ],
   "execution_count": 468
  },
  {
   "metadata": {},
   "cell_type": "markdown",
   "source": "## Bar Chart",
   "id": "53c020cdac430a14"
  },
  {
   "metadata": {
    "ExecuteTime": {
     "end_time": "2025-04-20T19:45:46.957767Z",
     "start_time": "2025-04-20T19:45:46.774511Z"
    }
   },
   "cell_type": "code",
   "source": [
    "import numpy as np\n",
    "\n",
    "train_evaluation_copy = train_evaluation.copy()\n",
    "test_evaluation_copy = test_evaluation.copy()\n",
    "\n",
    "train_var = train_evaluation_copy.pop(\"Explained Variance\")\n",
    "test_var = test_evaluation_copy.pop(\"Explained Variance\")\n",
    "\n",
    "evaluation_metrics = train_evaluation_copy.keys()\n",
    "\n",
    "x = np.arange(len(evaluation_metrics))\n",
    "width = 0.35\n",
    "\n",
    "fig, ax = plt.subplots(figsize=(10, 6))\n",
    "\n",
    "rects1 = ax.bar(x - width/2,\n",
    "                train_evaluation_copy.values(),\n",
    "                width,\n",
    "                label='Training Set')\n",
    "rects2 = ax.bar(x + width/2,\n",
    "                test_evaluation_copy.values(),\n",
    "                width,\n",
    "                label='Test Set')\n",
    "\n",
    "# Add some text for labels, title and axes ticks\n",
    "ax.set_ylabel('Metric Value')\n",
    "ax.set_title('Model Evaluation Comparison: Training Set vs. Test Set')\n",
    "ax.set_xticks(x)\n",
    "ax.set_xticklabels(evaluation_metrics)\n",
    "ax.legend()\n",
    "\n",
    "# Optional: Add labels on top of bars for clarity\n",
    "ax.bar_label(rects1, padding=3, fmt='%.4f')\n",
    "ax.bar_label(rects2, padding=3, fmt='%.4f')\n",
    "\n",
    "# Adjust the layout to prevent labels from overlapping\n",
    "fig.tight_layout()\n",
    "plt.show()"
   ],
   "id": "6a8e061f0b78cb28",
   "outputs": [
    {
     "data": {
      "text/plain": [
       "<Figure size 1000x600 with 1 Axes>"
      ],
      "image/png": "[encoded data removed]"
     },
     "metadata": {},
     "output_type": "display_data"
    }
   ],
   "execution_count": 469
  },
  {
   "metadata": {
    "ExecuteTime": {
     "end_time": "2025-04-20T19:45:47.091699Z",
     "start_time": "2025-04-20T19:45:47.011782Z"
    }
   },
   "cell_type": "code",
   "source": [
    "metric_name = \"Explained Variance\"\n",
    "\n",
    "sets = ['Training Set', 'Test Set']\n",
    "values = [train_var, test_var]\n",
    "\n",
    "plt.figure(figsize=(6, 5))\n",
    "bars = plt.bar(sets, values, color=['skyblue', 'lightcoral'])\n",
    "\n",
    "plt.ylabel(f'{metric_name} Value')\n",
    "plt.title(f'{metric_name} Comparison: Training vs. Test Set')\n",
    "plt.bar_label(bars, fmt='%.4f')\n",
    "\n",
    "plt.show()"
   ],
   "id": "8f7c7f9762ab5dba",
   "outputs": [
    {
     "data": {
      "text/plain": [
       "<Figure size 600x500 with 1 Axes>"
      ],
      "image/png": "[encoded data removed]"
     },
     "metadata": {},
     "output_type": "display_data"
    }
   ],
   "execution_count": 470
  },
  {
   "metadata": {
    "ExecuteTime": {
     "end_time": "2025-04-20T19:45:47.147562Z",
     "start_time": "2025-04-20T19:45:47.145663Z"
    }
   },
   "cell_type": "code",
   "source": "",
   "id": "4cd5bf3e4cd76cf2",
   "outputs": [],
   "execution_count": null
  }
 ],
 "metadata": {
  "kernelspec": {
   "display_name": "Python 3",
   "language": "python",
   "name": "python3"
  },
  "language_info": {
   "codemirror_mode": {
    "name": "ipython",
    "version": 2
   },
   "file_extension": ".py",
   "mimetype": "text/x-python",
   "name": "python",
   "nbconvert_exporter": "python",
   "pygments_lexer": "ipython2",
   "version": "2.7.6"
  }
 },
 "nbformat": 4,
 "nbformat_minor": 5
}
