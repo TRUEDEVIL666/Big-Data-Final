{
 "cells": [
  {
   "metadata": {},
   "cell_type": "markdown",
   "source": "# Importing PySpark and Reading the Dataset",
   "id": "84be04cbeadac7dd"
  },
  {
   "metadata": {},
   "cell_type": "markdown",
   "source": "## Importing PySpark",
   "id": "c47a29c03350e423"
  },
  {
   "cell_type": "code",
   "id": "initial_id",
   "metadata": {
    "collapsed": true,
    "ExecuteTime": {
     "end_time": "2025-05-15T14:36:12.060934Z",
     "start_time": "2025-05-15T14:36:12.055022Z"
    }
   },
   "source": [
    "from pyspark.sql import SparkSession, DataFrame\n",
    "\n",
    "spark = SparkSession.builder.appName(\"Task02\").getOrCreate()\n",
    "\n",
    "print(spark)"
   ],
   "outputs": [
    {
     "name": "stdout",
     "output_type": "stream",
     "text": [
      "<pyspark.sql.session.SparkSession object at 0x0000016B286C3A10>\n"
     ]
    }
   ],
   "execution_count": 85
  },
  {
   "metadata": {
    "ExecuteTime": {
     "end_time": "2025-05-15T14:36:12.103986Z",
     "start_time": "2025-05-15T14:36:12.097987Z"
    }
   },
   "cell_type": "code",
   "source": "spark.version",
   "id": "f9a91c84e368c8ce",
   "outputs": [
    {
     "data": {
      "text/plain": [
       "'3.5.5'"
      ]
     },
     "execution_count": 86,
     "metadata": {},
     "output_type": "execute_result"
    }
   ],
   "execution_count": 86
  },
  {
   "metadata": {},
   "cell_type": "markdown",
   "source": "## Reading the Dataset",
   "id": "f22e3ccdf8fb0243"
  },
  {
   "metadata": {
    "ExecuteTime": {
     "end_time": "2025-05-15T14:36:12.285765Z",
     "start_time": "2025-05-15T14:36:12.161553Z"
    }
   },
   "cell_type": "code",
   "source": [
    "import_file_path = \"gold_prices.csv\"\n",
    "\n",
    "df = spark.read.csv(import_file_path, header=True, inferSchema=True)\n",
    "df.show(5)"
   ],
   "id": "62e87225c78840a6",
   "outputs": [
    {
     "name": "stdout",
     "output_type": "stream",
     "text": [
      "+----------+---------+----------+\n",
      "|      Date|Buy Price|Sell Price|\n",
      "+----------+---------+----------+\n",
      "|2009-08-01|    21.13|     21.19|\n",
      "|2009-08-02|    21.13|     21.19|\n",
      "|2009-08-03|    21.13|     21.19|\n",
      "|2009-08-04|    21.13|     21.19|\n",
      "|2009-08-05|    21.13|     21.19|\n",
      "+----------+---------+----------+\n",
      "only showing top 5 rows\n",
      "\n"
     ]
    }
   ],
   "execution_count": 87
  },
  {
   "metadata": {
    "ExecuteTime": {
     "end_time": "2025-05-15T14:36:12.441628Z",
     "start_time": "2025-05-15T14:36:12.339315Z"
    }
   },
   "cell_type": "code",
   "source": "df.describe().show()",
   "id": "6648258c67e15da8",
   "outputs": [
    {
     "name": "stdout",
     "output_type": "stream",
     "text": [
      "+-------+------------------+------------------+\n",
      "|summary|         Buy Price|        Sell Price|\n",
      "+-------+------------------+------------------+\n",
      "|  count|              5565|              5565|\n",
      "|   mean|  45.5656999101527|46.017667565139305|\n",
      "| stddev|14.892834946578136|15.353833530564659|\n",
      "|    min|             21.13|             21.19|\n",
      "|    max|              89.0|              91.3|\n",
      "+-------+------------------+------------------+\n",
      "\n"
     ]
    }
   ],
   "execution_count": 88
  },
  {
   "metadata": {
    "ExecuteTime": {
     "end_time": "2025-05-15T14:36:12.561010Z",
     "start_time": "2025-05-15T14:36:12.555012Z"
    }
   },
   "cell_type": "code",
   "source": "df.printSchema()",
   "id": "775211837454fe34",
   "outputs": [
    {
     "name": "stdout",
     "output_type": "stream",
     "text": [
      "root\n",
      " |-- Date: date (nullable = true)\n",
      " |-- Buy Price: double (nullable = true)\n",
      " |-- Sell Price: double (nullable = true)\n",
      "\n"
     ]
    }
   ],
   "execution_count": 89
  },
  {
   "metadata": {},
   "cell_type": "markdown",
   "source": "# Generating Samples",
   "id": "2cec31f754724959"
  },
  {
   "metadata": {},
   "cell_type": "markdown",
   "source": "## Main Function",
   "id": "818232192c9bf7b5"
  },
  {
   "metadata": {
    "ExecuteTime": {
     "end_time": "2025-05-15T14:36:12.634742Z",
     "start_time": "2025-05-15T14:36:12.625666Z"
    }
   },
   "cell_type": "code",
   "source": [
    "import pyspark.sql.functions as F\n",
    "from pyspark.sql import Window\n",
    "from pyspark.ml.feature import VectorAssembler\n",
    "import random\n",
    "\n",
    "\n",
    "def generate_samples(dataset: DataFrame, cols_to_remove: list[str] = None,\n",
    "                     n_days: int = 10, n_sample: int = 4000, random_state: int = None,\n",
    "                     target_col: str = \"Buy Price\") -> DataFrame:\n",
    "\t\"\"\"\n",
    "  A function to generate a sample dataframe from a dataset.\n",
    "\n",
    "  :param dataset: Dataframe for sampling.\n",
    "  :param cols_to_remove: List of irrelevant columns.\n",
    "  :param n_days: Range of days prior to t, default is 10.\n",
    "  :param n_sample: Number of samples to generate, default is 1000.\n",
    "  :param random_state: Seed to set for consistent reproduction.\n",
    "  :param target_col: Target column to collect.\n",
    "  :return: Sample dataframe with n features.\n",
    "  \"\"\"\n",
    "\n",
    "\t\"\"\"\n",
    "  Generating a list of random indices\n",
    "  \"\"\"\n",
    "\tif random_state is not None:\n",
    "\t\trandom.seed(random_state)\n",
    "\n",
    "\t# Making sure it starts from a valid date to collect n_days previous rows\n",
    "\tpopulation = range(n_days + 1, dataset.count() + 1)\n",
    "\tsample_indices = random.sample(population, n_sample)\n",
    "\n",
    "\t\"\"\"\n",
    "  Collecting the buy price of previous lag_range number of days:\n",
    "  - Generating a temporary column for indexing\n",
    "  - Generate values for rows whose index is within sample_indices\n",
    "  \"\"\"\n",
    "\tsamples = dataset\n",
    "\tfeatures = []\n",
    "\twindow = Window.orderBy(\"Date\")\n",
    "\tindex_col = \"Index\"\n",
    "\tsamples = samples.withColumn(index_col, F.row_number().over(window))\n",
    "\tcondition = F.col(index_col).isin(sample_indices)\n",
    "\n",
    "\tfor i in range(1, n_days + 1):\n",
    "\t\tfeature_col = f\"t-{i}\"\n",
    "\t\tfeatures.append(feature_col)\n",
    "\n",
    "\t\tsamples = samples.withColumn(\n",
    "\t\t\tfeature_col,\n",
    "\t\t\tF.when(\n",
    "\t\t\t\tcondition,\n",
    "\t\t\t\tF.lag(target_col, i, None).over(window)\n",
    "\t\t\t).otherwise(\n",
    "\t\t\t\tF.lit(None)\n",
    "\t\t\t)\n",
    "\t\t)\n",
    "\n",
    "\t\"\"\"\n",
    "  Cleaning the dataset:\n",
    "  - Dropping unnecessary columns as well as null.\n",
    "  - Changing target_col column name to \"Current {target_col}\"\n",
    "  \"\"\"\n",
    "\tfor col in cols_to_remove:\n",
    "\t\tif col not in features and col != target_col:\n",
    "\t\t\tsamples = samples.drop(col)\n",
    "\n",
    "\tsamples = samples.drop(index_col)\n",
    "\tsamples = samples.withColumnRenamed(target_col, f\"Current {target_col}\")\n",
    "\tsamples = samples.dropna()\n",
    "\n",
    "\t\"\"\"\n",
    "  Transforming the sample dataframe by collecting feature\n",
    "   columns into a single column named \"Previous {target_col}(s)\"\n",
    "  \"\"\"\n",
    "\tassembler = VectorAssembler(\n",
    "\t\tinputCols=features,\n",
    "\t\toutputCol=f\"Previous {target_col}(s)\",\n",
    "\t)\n",
    "\n",
    "\tsamples = assembler.transform(samples)\n",
    "\n",
    "\t\"\"\"\n",
    "  Dropping all the previous feature columns\n",
    "  \"\"\"\n",
    "\tfor col in features:\n",
    "\t\tsamples = samples.drop(col)\n",
    "\n",
    "\treturn samples"
   ],
   "id": "34b9448941364be",
   "outputs": [],
   "execution_count": 90
  },
  {
   "metadata": {
    "ExecuteTime": {
     "end_time": "2025-05-15T14:36:16.519144Z",
     "start_time": "2025-05-15T14:36:12.691545Z"
    }
   },
   "cell_type": "code",
   "source": [
    "sample_df = generate_samples(df, random_state=42, cols_to_remove=[\"Date\", \"Sell Price\"])\n",
    "# isCorrect = True\n",
    "#\n",
    "# while isCorrect:\n",
    "# \tsample_df = generate_samples(\n",
    "# \t\tdf.limit(5),\n",
    "# \t\tn_days=2,\n",
    "# \t\tn_sample=3,\n",
    "# \t\trandom_state=42,\n",
    "# \t\tcols_to_remove=[\"Date\", \"Sell Price\"]\n",
    "# \t)\n",
    "#\n",
    "# \tif sample_df.count() == 3:\n",
    "# \t\tisCorrect = False\n",
    "\n",
    "sample_df.show(5)"
   ],
   "id": "9f4808a92a10267d",
   "outputs": [
    {
     "name": "stdout",
     "output_type": "stream",
     "text": [
      "+-----------------+---------------------+\n",
      "|Current Buy Price|Previous Buy Price(s)|\n",
      "+-----------------+---------------------+\n",
      "|            21.13| [21.13,21.13,21.1...|\n",
      "|            21.13| [21.13,21.13,21.1...|\n",
      "|            21.13| [21.13,21.13,21.1...|\n",
      "|            21.13| [21.13,21.13,21.1...|\n",
      "|            21.13| [21.13,21.13,21.1...|\n",
      "+-----------------+---------------------+\n",
      "only showing top 5 rows\n",
      "\n"
     ]
    }
   ],
   "execution_count": 91
  },
  {
   "metadata": {},
   "cell_type": "markdown",
   "source": "## Saving the Generated Samples",
   "id": "3aff91e92ed70634"
  },
  {
   "metadata": {
    "ExecuteTime": {
     "end_time": "2025-05-15T14:36:17.297759Z",
     "start_time": "2025-05-15T14:36:16.575097Z"
    }
   },
   "cell_type": "code",
   "source": [
    "from pyspark.sql.types import StringType\n",
    "\n",
    "# Converting the Dataframe to a suitable format to export\n",
    "column_to_convert = \"Previous Buy Price(s)\"\n",
    "\n",
    "df_for_csv = sample_df.withColumn(\n",
    "\tcolumn_to_convert,\n",
    "\tF.col(column_to_convert).cast(StringType())\n",
    ")\n",
    "\n",
    "pandas_df = df_for_csv.coalesce(1).toPandas()\n",
    "\n",
    "export_file_path = \"generated_samples.csv\"\n",
    "pandas_df.to_csv(export_file_path, index=False)\n",
    "\n",
    "print(f\"Generated samples saved to {export_file_path}\")"
   ],
   "id": "7405593ebdfc4e16",
   "outputs": [
    {
     "name": "stdout",
     "output_type": "stream",
     "text": [
      "Generated samples saved to generated_samples.csv\n"
     ]
    }
   ],
   "execution_count": 92
  },
  {
   "metadata": {},
   "cell_type": "markdown",
   "source": "# Training and Predicting",
   "id": "92aa10797e04984f"
  },
  {
   "metadata": {},
   "cell_type": "markdown",
   "source": "## Splitting the Training and Testing Sets",
   "id": "8967f7fa4bab6dbb"
  },
  {
   "metadata": {
    "ExecuteTime": {
     "end_time": "2025-05-15T14:36:17.392938Z",
     "start_time": "2025-05-15T14:36:17.357498Z"
    }
   },
   "cell_type": "code",
   "source": "train_set, test_set = sample_df.randomSplit(weights=[0.7, 0.3], seed=2)",
   "id": "1e32f0cc5394b2af",
   "outputs": [],
   "execution_count": 93
  },
  {
   "metadata": {
    "ExecuteTime": {
     "end_time": "2025-05-15T14:36:18.171284Z",
     "start_time": "2025-05-15T14:36:17.448032Z"
    }
   },
   "cell_type": "code",
   "source": "train_set.show(5)",
   "id": "8ec20e744b420c00",
   "outputs": [
    {
     "name": "stdout",
     "output_type": "stream",
     "text": [
      "+-----------------+---------------------+\n",
      "|Current Buy Price|Previous Buy Price(s)|\n",
      "+-----------------+---------------------+\n",
      "|            21.13| [21.13,21.13,21.1...|\n",
      "|            21.13| [21.13,21.13,21.1...|\n",
      "|            21.13| [21.13,21.13,21.1...|\n",
      "|            21.13| [21.13,21.13,21.1...|\n",
      "|            21.13| [21.13,21.13,21.1...|\n",
      "+-----------------+---------------------+\n",
      "only showing top 5 rows\n",
      "\n"
     ]
    }
   ],
   "execution_count": 94
  },
  {
   "metadata": {
    "ExecuteTime": {
     "end_time": "2025-05-15T14:36:18.930206Z",
     "start_time": "2025-05-15T14:36:18.230900Z"
    }
   },
   "cell_type": "code",
   "source": "test_set.show(5)",
   "id": "a73f0704d442ae0a",
   "outputs": [
    {
     "name": "stdout",
     "output_type": "stream",
     "text": [
      "+-----------------+---------------------+\n",
      "|Current Buy Price|Previous Buy Price(s)|\n",
      "+-----------------+---------------------+\n",
      "|            21.13| [21.13,21.13,21.1...|\n",
      "|            21.13| [21.13,21.13,21.1...|\n",
      "|            22.09| [22.07,22.04,22.0...|\n",
      "|            22.19| [22.09,22.07,22.0...|\n",
      "|            22.25| [22.19,22.09,22.0...|\n",
      "+-----------------+---------------------+\n",
      "only showing top 5 rows\n",
      "\n"
     ]
    }
   ],
   "execution_count": 95
  },
  {
   "metadata": {},
   "cell_type": "markdown",
   "source": "## Training the Model",
   "id": "44a4946d444812dc"
  },
  {
   "metadata": {
    "ExecuteTime": {
     "end_time": "2025-05-15T14:36:23.074217Z",
     "start_time": "2025-05-15T14:36:18.985516Z"
    }
   },
   "cell_type": "code",
   "source": [
    "from pyspark.ml.regression import LinearRegression\n",
    "\n",
    "lg = LinearRegression(\n",
    "\tfeaturesCol=\"Previous Buy Price(s)\",\n",
    "\tlabelCol=\"Current Buy Price\",\n",
    "\tsolver=\"l-bfgs\",\n",
    ")\n",
    "\n",
    "lg_model = lg.fit(train_set)"
   ],
   "id": "8780a5a3436a1b82",
   "outputs": [],
   "execution_count": 96
  },
  {
   "metadata": {},
   "cell_type": "markdown",
   "source": "## Making Predictions",
   "id": "932203e259c18afc"
  },
  {
   "metadata": {
    "ExecuteTime": {
     "end_time": "2025-05-15T14:36:23.873758Z",
     "start_time": "2025-05-15T14:36:23.139727Z"
    }
   },
   "cell_type": "code",
   "source": [
    "predictions = (lg_model.transform(test_set)\n",
    "               .withColumnRenamed(\"prediction\", \"Predicted Buy Price\"))\n",
    "predictions.show(5)"
   ],
   "id": "842aa4af39a7b4cb",
   "outputs": [
    {
     "name": "stdout",
     "output_type": "stream",
     "text": [
      "+-----------------+---------------------+-------------------+\n",
      "|Current Buy Price|Previous Buy Price(s)|Predicted Buy Price|\n",
      "+-----------------+---------------------+-------------------+\n",
      "|            21.13| [21.13,21.13,21.1...|  21.12994910188006|\n",
      "|            21.13| [21.13,21.13,21.1...|  21.12994910188006|\n",
      "|            22.09| [22.07,22.04,22.0...| 22.113260386508433|\n",
      "|            22.19| [22.09,22.07,22.0...| 22.082984247611883|\n",
      "|            22.25| [22.19,22.09,22.0...| 22.187991777090367|\n",
      "+-----------------+---------------------+-------------------+\n",
      "only showing top 5 rows\n",
      "\n"
     ]
    }
   ],
   "execution_count": 97
  },
  {
   "metadata": {},
   "cell_type": "markdown",
   "source": "# Evaluating the Model",
   "id": "14ae386586562a0"
  },
  {
   "metadata": {
    "ExecuteTime": {
     "end_time": "2025-05-15T14:36:23.936187Z",
     "start_time": "2025-05-15T14:36:23.931704Z"
    }
   },
   "cell_type": "code",
   "source": [
    "def evaluate_model(dataset: DataFrame):\n",
    "\t\"\"\"\n",
    "  A function to evaluate the model performance based on a given dataset.\n",
    "  :param dataset: The dataframe for evaluation.\n",
    "  :return: Dictionary of evaluation results using different metrics.\n",
    "  \"\"\"\n",
    "\n",
    "\tevaluation = lg_model.evaluate(dataset)\n",
    "\n",
    "\tmetrics = {\n",
    "\t\t\"Root Mean Squared Error\": evaluation.rootMeanSquaredError,\n",
    "\t\t\"Mean Squared Error\": evaluation.meanSquaredError,\n",
    "\t\t\"R2\": evaluation.r2,\n",
    "\t\t\"Mean Absolute Error\": evaluation.meanAbsoluteError,\n",
    "\t\t\"Explained Variance\": evaluation.explainedVariance,\n",
    "\t\t\"R2 Adjusted\": evaluation.r2adj,\n",
    "\t}\n",
    "\n",
    "\tmax_len = 24\n",
    "\n",
    "\tfor metric in metrics.keys():\n",
    "\t\tprint(f\"{metric:<{max_len}}: {metrics.get(metric):.4f}\")\n",
    "\n",
    "\treturn metrics"
   ],
   "id": "9b686cd694eb3d77",
   "outputs": [],
   "execution_count": 98
  },
  {
   "metadata": {},
   "cell_type": "markdown",
   "source": "## On the Training Set",
   "id": "556f0bce143691fd"
  },
  {
   "metadata": {
    "ExecuteTime": {
     "end_time": "2025-05-15T14:36:24.311884Z",
     "start_time": "2025-05-15T14:36:23.991408Z"
    }
   },
   "cell_type": "code",
   "source": "train_evaluation = evaluate_model(train_set)",
   "id": "b453ae53e8342af1",
   "outputs": [
    {
     "name": "stdout",
     "output_type": "stream",
     "text": [
      "Root Mean Squared Error : 0.2672\n",
      "Mean Squared Error      : 0.0714\n",
      "R2                      : 0.9997\n",
      "Mean Absolute Error     : 0.1351\n",
      "Explained Variance      : 217.3482\n",
      "R2 Adjusted             : 0.9997\n"
     ]
    }
   ],
   "execution_count": 99
  },
  {
   "metadata": {},
   "cell_type": "markdown",
   "source": "## On the Testing Set",
   "id": "c285d0780732e1e4"
  },
  {
   "metadata": {
    "ExecuteTime": {
     "end_time": "2025-05-15T14:36:24.677472Z",
     "start_time": "2025-05-15T14:36:24.377576Z"
    }
   },
   "cell_type": "code",
   "source": "test_evaluation = evaluate_model(test_set)",
   "id": "4519aa022c30e9fe",
   "outputs": [
    {
     "name": "stdout",
     "output_type": "stream",
     "text": [
      "Root Mean Squared Error : 0.3304\n",
      "Mean Squared Error      : 0.1092\n",
      "R2                      : 0.9995\n",
      "Mean Absolute Error     : 0.1434\n",
      "Explained Variance      : 219.7607\n",
      "R2 Adjusted             : 0.9995\n"
     ]
    }
   ],
   "execution_count": 100
  },
  {
   "metadata": {},
   "cell_type": "markdown",
   "source": "# Illustration Charts",
   "id": "6c201365bd23b144"
  },
  {
   "metadata": {},
   "cell_type": "markdown",
   "source": "## Line Chart",
   "id": "d69d4820641be104"
  },
  {
   "metadata": {
    "ExecuteTime": {
     "end_time": "2025-05-15T14:36:24.842473Z",
     "start_time": "2025-05-15T14:36:24.734788Z"
    }
   },
   "cell_type": "code",
   "source": [
    "import matplotlib.pyplot as plt\n",
    "\n",
    "loss_history = lg_model.summary.objectiveHistory\n",
    "\n",
    "if loss_history:\n",
    "\tplt.figure(figsize=(8, 5))\n",
    "\tplt.plot(loss_history)\n",
    "\tplt.title('Training Objective Function History')\n",
    "\tplt.xlabel('Iteration')\n",
    "\tplt.ylabel('Objective Function Value (Loss + Regularization)')\n",
    "\tplt.grid(True)\n",
    "\tplt.show()"
   ],
   "id": "35e6ef6ba9dd7f91",
   "outputs": [
    {
     "data": {
      "text/plain": [
       "<Figure size 800x500 with 1 Axes>"
      ],
      "image/png": "[encoded data removed]"
     },
     "metadata": {},
     "output_type": "display_data"
    }
   ],
   "execution_count": 101
  },
  {
   "metadata": {},
   "cell_type": "markdown",
   "source": "## Bar Chart",
   "id": "53c020cdac430a14"
  },
  {
   "metadata": {
    "ExecuteTime": {
     "end_time": "2025-05-15T14:36:25.063042Z",
     "start_time": "2025-05-15T14:36:24.898647Z"
    }
   },
   "cell_type": "code",
   "source": [
    "import numpy as np\n",
    "\n",
    "train_evaluation_copy = train_evaluation.copy()\n",
    "test_evaluation_copy = test_evaluation.copy()\n",
    "\n",
    "train_var = train_evaluation_copy.pop(\"Explained Variance\")\n",
    "test_var = test_evaluation_copy.pop(\"Explained Variance\")\n",
    "\n",
    "evaluation_metrics = train_evaluation_copy.keys()\n",
    "\n",
    "x = np.arange(len(evaluation_metrics))\n",
    "width = 0.35\n",
    "\n",
    "fig, ax = plt.subplots(figsize=(10, 6))\n",
    "\n",
    "rects1 = ax.bar(x - width / 2,\n",
    "                train_evaluation_copy.values(),\n",
    "                width,\n",
    "                label='Training Set')\n",
    "rects2 = ax.bar(x + width / 2,\n",
    "                test_evaluation_copy.values(),\n",
    "                width,\n",
    "                label='Test Set')\n",
    "\n",
    "# Add some text for labels, title and axes ticks\n",
    "ax.set_ylabel('Metric Value')\n",
    "ax.set_title('Model Evaluation Comparison: Training Set vs. Test Set')\n",
    "ax.set_xticks(x)\n",
    "ax.set_xticklabels(evaluation_metrics)\n",
    "ax.legend()\n",
    "\n",
    "# Optional: Add labels on top of bars for clarity\n",
    "ax.bar_label(rects1, padding=3, fmt='%.4f')\n",
    "ax.bar_label(rects2, padding=3, fmt='%.4f')\n",
    "\n",
    "# Adjust the layout to prevent labels from overlapping\n",
    "fig.tight_layout()\n",
    "plt.show()"
   ],
   "id": "6a8e061f0b78cb28",
   "outputs": [
    {
     "data": {
      "text/plain": [
       "<Figure size 1000x600 with 1 Axes>"
      ],
      "image/png": "[encoded data removed]"
     },
     "metadata": {},
     "output_type": "display_data"
    }
   ],
   "execution_count": 102
  },
  {
   "metadata": {
    "ExecuteTime": {
     "end_time": "2025-05-15T14:36:25.189215Z",
     "start_time": "2025-05-15T14:36:25.123215Z"
    }
   },
   "cell_type": "code",
   "source": [
    "metric_name = \"Explained Variance\"\n",
    "\n",
    "sets = ['Training Set', 'Test Set']\n",
    "values = [train_var, test_var]\n",
    "\n",
    "plt.figure(figsize=(6, 5))\n",
    "bars = plt.bar(sets, values, color=['skyblue', 'lightcoral'])\n",
    "\n",
    "plt.ylabel(f'{metric_name} Value')\n",
    "plt.title(f'{metric_name} Comparison: Training vs. Test Set')\n",
    "plt.bar_label(bars, fmt='%.4f')\n",
    "\n",
    "plt.show()"
   ],
   "id": "8f7c7f9762ab5dba",
   "outputs": [
    {
     "data": {
      "text/plain": [
       "<Figure size 600x500 with 1 Axes>"
      ],
      "image/png": "[encoded data removed]"
     },
     "metadata": {},
     "output_type": "display_data"
    }
   ],
   "execution_count": 103
  },
  {
   "metadata": {
    "ExecuteTime": {
     "end_time": "2025-05-15T14:36:25.249741Z",
     "start_time": "2025-05-15T14:36:25.247310Z"
    }
   },
   "cell_type": "code",
   "source": "",
   "id": "4cd5bf3e4cd76cf2",
   "outputs": [],
   "execution_count": null
  }
 ],
 "metadata": {
  "kernelspec": {
   "display_name": "Python 3",
   "language": "python",
   "name": "python3"
  },
  "language_info": {
   "codemirror_mode": {
    "name": "ipython",
    "version": 2
   },
   "file_extension": ".py",
   "mimetype": "text/x-python",
   "name": "python",
   "nbconvert_exporter": "python",
   "pygments_lexer": "ipython2",
   "version": "2.7.6"
  }
 },
 "nbformat": 4,
 "nbformat_minor": 5
}
